{
 "cells": [
  {
   "cell_type": "markdown",
   "metadata": {},
   "source": [
    "# Gas Stations in Mexico\n"
   ]
  },
  {
   "cell_type": "markdown",
   "metadata": {},
   "source": [
    "![alt text](gas_station.jpg)"
   ]
  },
  {
   "cell_type": "markdown",
   "metadata": {},
   "source": [
    "## Introduction"
   ]
  },
  {
   "cell_type": "markdown",
   "metadata": {},
   "source": [
    "- Historically mexican population has been sensitive to fuel prices to the extent that it has even been a driver of political campaigns and discourse.\n",
    "- Also, in recent times, customer service has become paramount in diverse areas related to the purchase of goods and services, \n",
    "- Finally, ourselves as fuel consumers, with the liberalization of prices from the energy reform, we wanted to see if added features influence consumption and ratings in Service Stations\n",
    "\n",
    "We wanted to see if the data reflects our personal observations."
   ]
  },
  {
   "cell_type": "markdown",
   "metadata": {},
   "source": [
    "---"
   ]
  },
  {
   "cell_type": "markdown",
   "metadata": {},
   "source": [
    "## Part 1 - Reading and preparing data"
   ]
  },
  {
   "cell_type": "markdown",
   "metadata": {},
   "source": [
    "1. Import all the dependencies used in the project. "
   ]
  },
  {
   "cell_type": "code",
   "execution_count": 1,
   "metadata": {},
   "outputs": [],
   "source": [
    "import pandas as pd\n",
    "import numpy as np\n",
    "from numpy import NaN\n",
    "import matplotlib.pyplot as plt\n",
    "import requests\n",
    "import json\n",
    "import gmaps\n",
    "from config import gkey"
   ]
  },
  {
   "cell_type": "markdown",
   "metadata": {},
   "source": [
    "2. Define a function that will convert elements of a list into a single string that will be used later on the project."
   ]
  },
  {
   "cell_type": "code",
   "execution_count": 2,
   "metadata": {},
   "outputs": [],
   "source": [
    "def listToString(s):  \n",
    "    \n",
    "    # initialize an empty string \n",
    "    str1 = \" \" \n",
    "    \n",
    "    # return string   \n",
    "    return (str1.join(s)) "
   ]
  },
  {
   "cell_type": "markdown",
   "metadata": {},
   "source": [
    "3. Read data from two csv files and showing the first 5 rows to check how the data looks like"
   ]
  },
  {
   "cell_type": "code",
   "execution_count": 3,
   "metadata": {},
   "outputs": [],
   "source": [
    "prices_file = \"Resources/prices.csv\"\n",
    "places_file = \"Resources/places.csv\"\n",
    "prices_df = pd.read_csv(prices_file)\n",
    "places_df = pd.read_csv(places_file)"
   ]
  },
  {
   "cell_type": "markdown",
   "metadata": {},
   "source": [
    "**Note:** The CSV files were originally XML files. Due to complexity of use with Python of that kind of file, we downloaded and converted both to CSV for better handling"
   ]
  },
  {
   "cell_type": "code",
   "execution_count": 4,
   "metadata": {
    "scrolled": true
   },
   "outputs": [
    {
     "data": {
      "text/html": [
       "<div>\n",
       "<style scoped>\n",
       "    .dataframe tbody tr th:only-of-type {\n",
       "        vertical-align: middle;\n",
       "    }\n",
       "\n",
       "    .dataframe tbody tr th {\n",
       "        vertical-align: top;\n",
       "    }\n",
       "\n",
       "    .dataframe thead th {\n",
       "        text-align: right;\n",
       "    }\n",
       "</style>\n",
       "<table border=\"1\" class=\"dataframe\">\n",
       "  <thead>\n",
       "    <tr style=\"text-align: right;\">\n",
       "      <th></th>\n",
       "      <th>places</th>\n",
       "      <th>place</th>\n",
       "      <th>place_id</th>\n",
       "      <th>gas_price</th>\n",
       "      <th>type</th>\n",
       "    </tr>\n",
       "  </thead>\n",
       "  <tbody>\n",
       "    <tr>\n",
       "      <th>0</th>\n",
       "      <td>NaN</td>\n",
       "      <td>NaN</td>\n",
       "      <td>11703.0</td>\n",
       "      <td>18.69</td>\n",
       "      <td>regular</td>\n",
       "    </tr>\n",
       "    <tr>\n",
       "      <th>1</th>\n",
       "      <td>NaN</td>\n",
       "      <td>NaN</td>\n",
       "      <td>NaN</td>\n",
       "      <td>19.69</td>\n",
       "      <td>premium</td>\n",
       "    </tr>\n",
       "    <tr>\n",
       "      <th>2</th>\n",
       "      <td>NaN</td>\n",
       "      <td>NaN</td>\n",
       "      <td>11702.0</td>\n",
       "      <td>18.19</td>\n",
       "      <td>regular</td>\n",
       "    </tr>\n",
       "    <tr>\n",
       "      <th>3</th>\n",
       "      <td>NaN</td>\n",
       "      <td>NaN</td>\n",
       "      <td>NaN</td>\n",
       "      <td>19.79</td>\n",
       "      <td>premium</td>\n",
       "    </tr>\n",
       "    <tr>\n",
       "      <th>4</th>\n",
       "      <td>NaN</td>\n",
       "      <td>NaN</td>\n",
       "      <td>NaN</td>\n",
       "      <td>18.25</td>\n",
       "      <td>diesel</td>\n",
       "    </tr>\n",
       "  </tbody>\n",
       "</table>\n",
       "</div>"
      ],
      "text/plain": [
       "   places  place  place_id  gas_price     type\n",
       "0     NaN    NaN   11703.0      18.69  regular\n",
       "1     NaN    NaN       NaN      19.69  premium\n",
       "2     NaN    NaN   11702.0      18.19  regular\n",
       "3     NaN    NaN       NaN      19.79  premium\n",
       "4     NaN    NaN       NaN      18.25   diesel"
      ]
     },
     "execution_count": 4,
     "metadata": {},
     "output_type": "execute_result"
    }
   ],
   "source": [
    "prices_df.head()"
   ]
  },
  {
   "cell_type": "code",
   "execution_count": 5,
   "metadata": {},
   "outputs": [
    {
     "data": {
      "text/plain": [
       "(33215, 5)"
      ]
     },
     "execution_count": 5,
     "metadata": {},
     "output_type": "execute_result"
    }
   ],
   "source": [
    "prices_df.shape"
   ]
  },
  {
   "cell_type": "code",
   "execution_count": 6,
   "metadata": {},
   "outputs": [
    {
     "data": {
      "text/html": [
       "<div>\n",
       "<style scoped>\n",
       "    .dataframe tbody tr th:only-of-type {\n",
       "        vertical-align: middle;\n",
       "    }\n",
       "\n",
       "    .dataframe tbody tr th {\n",
       "        vertical-align: top;\n",
       "    }\n",
       "\n",
       "    .dataframe thead th {\n",
       "        text-align: right;\n",
       "    }\n",
       "</style>\n",
       "<table border=\"1\" class=\"dataframe\">\n",
       "  <thead>\n",
       "    <tr style=\"text-align: right;\">\n",
       "      <th></th>\n",
       "      <th>name</th>\n",
       "      <th>cre_id</th>\n",
       "      <th>location/x</th>\n",
       "      <th>location/y</th>\n",
       "      <th>_place_id</th>\n",
       "    </tr>\n",
       "  </thead>\n",
       "  <tbody>\n",
       "    <tr>\n",
       "      <th>0</th>\n",
       "      <td>ESTACION DE SERVICIO CALAFIA, S.A. DE C.V.</td>\n",
       "      <td>PL/658/EXP/ES/2015</td>\n",
       "      <td>-116.92140</td>\n",
       "      <td>32.47641</td>\n",
       "      <td>2039</td>\n",
       "    </tr>\n",
       "    <tr>\n",
       "      <th>1</th>\n",
       "      <td>DIGEPE, S.A. DE C.V. (07356)</td>\n",
       "      <td>PL/902/EXP/ES/2015</td>\n",
       "      <td>-99.74484</td>\n",
       "      <td>20.30370</td>\n",
       "      <td>2040</td>\n",
       "    </tr>\n",
       "    <tr>\n",
       "      <th>2</th>\n",
       "      <td>DIAZ GAS, S.A. DE C.V.</td>\n",
       "      <td>PL/760/EXP/ES/2015</td>\n",
       "      <td>-106.45140</td>\n",
       "      <td>31.71947</td>\n",
       "      <td>2041</td>\n",
       "    </tr>\n",
       "    <tr>\n",
       "      <th>3</th>\n",
       "      <td>COMBU-EXPRESS, S.A. DE C.V.</td>\n",
       "      <td>PL/825/EXP/ES/2015</td>\n",
       "      <td>-103.30420</td>\n",
       "      <td>20.71413</td>\n",
       "      <td>2042</td>\n",
       "    </tr>\n",
       "    <tr>\n",
       "      <th>4</th>\n",
       "      <td>PETROMAX, S.A. DE C.V.</td>\n",
       "      <td>PL/585/EXP/ES/2015</td>\n",
       "      <td>-98.29977</td>\n",
       "      <td>26.03787</td>\n",
       "      <td>2043</td>\n",
       "    </tr>\n",
       "  </tbody>\n",
       "</table>\n",
       "</div>"
      ],
      "text/plain": [
       "                                         name              cre_id  location/x  \\\n",
       "0  ESTACION DE SERVICIO CALAFIA, S.A. DE C.V.  PL/658/EXP/ES/2015  -116.92140   \n",
       "1                DIGEPE, S.A. DE C.V. (07356)  PL/902/EXP/ES/2015   -99.74484   \n",
       "2                      DIAZ GAS, S.A. DE C.V.  PL/760/EXP/ES/2015  -106.45140   \n",
       "3                 COMBU-EXPRESS, S.A. DE C.V.  PL/825/EXP/ES/2015  -103.30420   \n",
       "4                      PETROMAX, S.A. DE C.V.  PL/585/EXP/ES/2015   -98.29977   \n",
       "\n",
       "   location/y  _place_id  \n",
       "0    32.47641       2039  \n",
       "1    20.30370       2040  \n",
       "2    31.71947       2041  \n",
       "3    20.71413       2042  \n",
       "4    26.03787       2043  "
      ]
     },
     "execution_count": 6,
     "metadata": {},
     "output_type": "execute_result"
    }
   ],
   "source": [
    "places_df.head()"
   ]
  },
  {
   "cell_type": "code",
   "execution_count": 7,
   "metadata": {},
   "outputs": [
    {
     "data": {
      "text/plain": [
       "(12753, 5)"
      ]
     },
     "execution_count": 7,
     "metadata": {},
     "output_type": "execute_result"
    }
   ],
   "source": [
    "places_df.shape"
   ]
  },
  {
   "cell_type": "markdown",
   "metadata": {},
   "source": [
    "4. The prices_id base had to be managed, so we filled every \"NaN\" value of place_id with the corresponding ID from one cell above."
   ]
  },
  {
   "cell_type": "code",
   "execution_count": 8,
   "metadata": {},
   "outputs": [
    {
     "data": {
      "text/html": [
       "<div>\n",
       "<style scoped>\n",
       "    .dataframe tbody tr th:only-of-type {\n",
       "        vertical-align: middle;\n",
       "    }\n",
       "\n",
       "    .dataframe tbody tr th {\n",
       "        vertical-align: top;\n",
       "    }\n",
       "\n",
       "    .dataframe thead th {\n",
       "        text-align: right;\n",
       "    }\n",
       "</style>\n",
       "<table border=\"1\" class=\"dataframe\">\n",
       "  <thead>\n",
       "    <tr style=\"text-align: right;\">\n",
       "      <th></th>\n",
       "      <th>_place_id</th>\n",
       "      <th>gas_price</th>\n",
       "      <th>type</th>\n",
       "    </tr>\n",
       "  </thead>\n",
       "  <tbody>\n",
       "    <tr>\n",
       "      <th>0</th>\n",
       "      <td>11703.0</td>\n",
       "      <td>18.69</td>\n",
       "      <td>regular</td>\n",
       "    </tr>\n",
       "    <tr>\n",
       "      <th>1</th>\n",
       "      <td>11703.0</td>\n",
       "      <td>19.69</td>\n",
       "      <td>premium</td>\n",
       "    </tr>\n",
       "    <tr>\n",
       "      <th>2</th>\n",
       "      <td>11702.0</td>\n",
       "      <td>18.19</td>\n",
       "      <td>regular</td>\n",
       "    </tr>\n",
       "    <tr>\n",
       "      <th>3</th>\n",
       "      <td>11702.0</td>\n",
       "      <td>19.79</td>\n",
       "      <td>premium</td>\n",
       "    </tr>\n",
       "    <tr>\n",
       "      <th>4</th>\n",
       "      <td>11702.0</td>\n",
       "      <td>18.25</td>\n",
       "      <td>diesel</td>\n",
       "    </tr>\n",
       "  </tbody>\n",
       "</table>\n",
       "</div>"
      ],
      "text/plain": [
       "   _place_id  gas_price     type\n",
       "0    11703.0      18.69  regular\n",
       "1    11703.0      19.69  premium\n",
       "2    11702.0      18.19  regular\n",
       "3    11702.0      19.79  premium\n",
       "4    11702.0      18.25   diesel"
      ]
     },
     "execution_count": 8,
     "metadata": {},
     "output_type": "execute_result"
    }
   ],
   "source": [
    "# Creating a column to replace NaNs with Places_ID\n",
    "Place_ID = prices_df['place_id'].fillna(method='ffill')\n",
    "# Adding Column to existing prices DataFrame\n",
    "prices_df['Place_ID'] = Place_ID\n",
    "# Eliminating original place_id from DataFrame\n",
    "prices_df = prices_df.drop('place_id', axis = 1)\n",
    "# Rearrange DataFrame\n",
    "prices_df = prices_df[['Place_ID','gas_price','type']]\n",
    "# Rename Place_ID\n",
    "prices_df.columns = ['_place_id', 'gas_price','type']\n",
    "prices_df.head()"
   ]
  },
  {
   "cell_type": "markdown",
   "metadata": {},
   "source": [
    "5. Merging both DF into a single one by \"_place_id\" and renaming columns"
   ]
  },
  {
   "cell_type": "code",
   "execution_count": 9,
   "metadata": {},
   "outputs": [
    {
     "data": {
      "text/html": [
       "<div>\n",
       "<style scoped>\n",
       "    .dataframe tbody tr th:only-of-type {\n",
       "        vertical-align: middle;\n",
       "    }\n",
       "\n",
       "    .dataframe tbody tr th {\n",
       "        vertical-align: top;\n",
       "    }\n",
       "\n",
       "    .dataframe thead th {\n",
       "        text-align: right;\n",
       "    }\n",
       "</style>\n",
       "<table border=\"1\" class=\"dataframe\">\n",
       "  <thead>\n",
       "    <tr style=\"text-align: right;\">\n",
       "      <th></th>\n",
       "      <th>name</th>\n",
       "      <th>cre_id</th>\n",
       "      <th>Lng</th>\n",
       "      <th>Lat</th>\n",
       "      <th>place_id</th>\n",
       "      <th>gas_price</th>\n",
       "      <th>gas type</th>\n",
       "    </tr>\n",
       "  </thead>\n",
       "  <tbody>\n",
       "    <tr>\n",
       "      <th>0</th>\n",
       "      <td>ESTACION DE SERVICIO CALAFIA, S.A. DE C.V.</td>\n",
       "      <td>PL/658/EXP/ES/2015</td>\n",
       "      <td>-116.92140</td>\n",
       "      <td>32.47641</td>\n",
       "      <td>2039</td>\n",
       "      <td>17.39</td>\n",
       "      <td>regular</td>\n",
       "    </tr>\n",
       "    <tr>\n",
       "      <th>1</th>\n",
       "      <td>ESTACION DE SERVICIO CALAFIA, S.A. DE C.V.</td>\n",
       "      <td>PL/658/EXP/ES/2015</td>\n",
       "      <td>-116.92140</td>\n",
       "      <td>32.47641</td>\n",
       "      <td>2039</td>\n",
       "      <td>19.35</td>\n",
       "      <td>premium</td>\n",
       "    </tr>\n",
       "    <tr>\n",
       "      <th>2</th>\n",
       "      <td>ESTACION DE SERVICIO CALAFIA, S.A. DE C.V.</td>\n",
       "      <td>PL/658/EXP/ES/2015</td>\n",
       "      <td>-116.92140</td>\n",
       "      <td>32.47641</td>\n",
       "      <td>2039</td>\n",
       "      <td>18.45</td>\n",
       "      <td>diesel</td>\n",
       "    </tr>\n",
       "    <tr>\n",
       "      <th>3</th>\n",
       "      <td>DIGEPE, S.A. DE C.V. (07356)</td>\n",
       "      <td>PL/902/EXP/ES/2015</td>\n",
       "      <td>-99.74484</td>\n",
       "      <td>20.30370</td>\n",
       "      <td>2040</td>\n",
       "      <td>18.65</td>\n",
       "      <td>regular</td>\n",
       "    </tr>\n",
       "    <tr>\n",
       "      <th>4</th>\n",
       "      <td>DIGEPE, S.A. DE C.V. (07356)</td>\n",
       "      <td>PL/902/EXP/ES/2015</td>\n",
       "      <td>-99.74484</td>\n",
       "      <td>20.30370</td>\n",
       "      <td>2040</td>\n",
       "      <td>18.99</td>\n",
       "      <td>premium</td>\n",
       "    </tr>\n",
       "    <tr>\n",
       "      <th>...</th>\n",
       "      <td>...</td>\n",
       "      <td>...</td>\n",
       "      <td>...</td>\n",
       "      <td>...</td>\n",
       "      <td>...</td>\n",
       "      <td>...</td>\n",
       "      <td>...</td>\n",
       "    </tr>\n",
       "    <tr>\n",
       "      <th>33210</th>\n",
       "      <td>GRUPO GASOLINERO DEL DIAMANTE HOLZ SA DE CV</td>\n",
       "      <td>PL/23508/EXP/ES/2020</td>\n",
       "      <td>-103.40990</td>\n",
       "      <td>22.83751</td>\n",
       "      <td>27300</td>\n",
       "      <td>18.59</td>\n",
       "      <td>premium</td>\n",
       "    </tr>\n",
       "    <tr>\n",
       "      <th>33211</th>\n",
       "      <td>GRUPO GASOLINERO DEL DIAMANTE HOLZ SA DE CV</td>\n",
       "      <td>PL/23508/EXP/ES/2020</td>\n",
       "      <td>-103.40990</td>\n",
       "      <td>22.83751</td>\n",
       "      <td>27300</td>\n",
       "      <td>18.89</td>\n",
       "      <td>diesel</td>\n",
       "    </tr>\n",
       "    <tr>\n",
       "      <th>33212</th>\n",
       "      <td>JAGREGAS 2 S.A. DE C.V.</td>\n",
       "      <td>PL/23510/EXP/ES/2020</td>\n",
       "      <td>-100.41290</td>\n",
       "      <td>20.67198</td>\n",
       "      <td>27304</td>\n",
       "      <td>16.99</td>\n",
       "      <td>regular</td>\n",
       "    </tr>\n",
       "    <tr>\n",
       "      <th>33213</th>\n",
       "      <td>JAGREGAS 2 S.A. DE C.V.</td>\n",
       "      <td>PL/23510/EXP/ES/2020</td>\n",
       "      <td>-100.41290</td>\n",
       "      <td>20.67198</td>\n",
       "      <td>27304</td>\n",
       "      <td>17.30</td>\n",
       "      <td>premium</td>\n",
       "    </tr>\n",
       "    <tr>\n",
       "      <th>33214</th>\n",
       "      <td>JAGREGAS 2 S.A. DE C.V.</td>\n",
       "      <td>PL/23510/EXP/ES/2020</td>\n",
       "      <td>-100.41290</td>\n",
       "      <td>20.67198</td>\n",
       "      <td>27304</td>\n",
       "      <td>17.41</td>\n",
       "      <td>diesel</td>\n",
       "    </tr>\n",
       "  </tbody>\n",
       "</table>\n",
       "<p>33215 rows × 7 columns</p>\n",
       "</div>"
      ],
      "text/plain": [
       "                                              name                cre_id  \\\n",
       "0       ESTACION DE SERVICIO CALAFIA, S.A. DE C.V.    PL/658/EXP/ES/2015   \n",
       "1       ESTACION DE SERVICIO CALAFIA, S.A. DE C.V.    PL/658/EXP/ES/2015   \n",
       "2       ESTACION DE SERVICIO CALAFIA, S.A. DE C.V.    PL/658/EXP/ES/2015   \n",
       "3                     DIGEPE, S.A. DE C.V. (07356)    PL/902/EXP/ES/2015   \n",
       "4                     DIGEPE, S.A. DE C.V. (07356)    PL/902/EXP/ES/2015   \n",
       "...                                            ...                   ...   \n",
       "33210  GRUPO GASOLINERO DEL DIAMANTE HOLZ SA DE CV  PL/23508/EXP/ES/2020   \n",
       "33211  GRUPO GASOLINERO DEL DIAMANTE HOLZ SA DE CV  PL/23508/EXP/ES/2020   \n",
       "33212                      JAGREGAS 2 S.A. DE C.V.  PL/23510/EXP/ES/2020   \n",
       "33213                      JAGREGAS 2 S.A. DE C.V.  PL/23510/EXP/ES/2020   \n",
       "33214                      JAGREGAS 2 S.A. DE C.V.  PL/23510/EXP/ES/2020   \n",
       "\n",
       "             Lng       Lat  place_id  gas_price gas type  \n",
       "0     -116.92140  32.47641      2039      17.39  regular  \n",
       "1     -116.92140  32.47641      2039      19.35  premium  \n",
       "2     -116.92140  32.47641      2039      18.45   diesel  \n",
       "3      -99.74484  20.30370      2040      18.65  regular  \n",
       "4      -99.74484  20.30370      2040      18.99  premium  \n",
       "...          ...       ...       ...        ...      ...  \n",
       "33210 -103.40990  22.83751     27300      18.59  premium  \n",
       "33211 -103.40990  22.83751     27300      18.89   diesel  \n",
       "33212 -100.41290  20.67198     27304      16.99  regular  \n",
       "33213 -100.41290  20.67198     27304      17.30  premium  \n",
       "33214 -100.41290  20.67198     27304      17.41   diesel  \n",
       "\n",
       "[33215 rows x 7 columns]"
      ]
     },
     "execution_count": 9,
     "metadata": {},
     "output_type": "execute_result"
    }
   ],
   "source": [
    "Gas_Stations_df = pd.merge(places_df, prices_df, on=\"_place_id\")\n",
    "Gas_Stations_df = Gas_Stations_df.rename(columns={\"_place_id\":\"place_id\",\n",
    "                                                 \"location/x\":\"Lng\",\n",
    "                                                 \"location/y\":\"Lat\",\n",
    "                                                 \"type\":\"gas type\"})\n",
    "Gas_Stations_df\n"
   ]
  },
  {
   "cell_type": "markdown",
   "metadata": {},
   "source": [
    "## Part 2 - Setting up parameters and columns to use Google API"
   ]
  },
  {
   "cell_type": "markdown",
   "metadata": {},
   "source": [
    "1. Creating a column for each new type of data we want to get."
   ]
  },
  {
   "cell_type": "code",
   "execution_count": 10,
   "metadata": {},
   "outputs": [
    {
     "data": {
      "text/html": [
       "<div>\n",
       "<style scoped>\n",
       "    .dataframe tbody tr th:only-of-type {\n",
       "        vertical-align: middle;\n",
       "    }\n",
       "\n",
       "    .dataframe tbody tr th {\n",
       "        vertical-align: top;\n",
       "    }\n",
       "\n",
       "    .dataframe thead th {\n",
       "        text-align: right;\n",
       "    }\n",
       "</style>\n",
       "<table border=\"1\" class=\"dataframe\">\n",
       "  <thead>\n",
       "    <tr style=\"text-align: right;\">\n",
       "      <th></th>\n",
       "      <th>name</th>\n",
       "      <th>cre_id</th>\n",
       "      <th>Lng</th>\n",
       "      <th>Lat</th>\n",
       "      <th>place_id</th>\n",
       "      <th>gas_price</th>\n",
       "      <th>gas type</th>\n",
       "      <th>Rating</th>\n",
       "      <th>User Ratings</th>\n",
       "      <th>Google_Name</th>\n",
       "      <th>Address</th>\n",
       "      <th>Types</th>\n",
       "    </tr>\n",
       "  </thead>\n",
       "  <tbody>\n",
       "    <tr>\n",
       "      <th>0</th>\n",
       "      <td>ESTACION DE SERVICIO CALAFIA, S.A. DE C.V.</td>\n",
       "      <td>PL/658/EXP/ES/2015</td>\n",
       "      <td>-116.92140</td>\n",
       "      <td>32.47641</td>\n",
       "      <td>2039</td>\n",
       "      <td>17.39</td>\n",
       "      <td>regular</td>\n",
       "      <td></td>\n",
       "      <td></td>\n",
       "      <td></td>\n",
       "      <td></td>\n",
       "      <td></td>\n",
       "    </tr>\n",
       "    <tr>\n",
       "      <th>1</th>\n",
       "      <td>ESTACION DE SERVICIO CALAFIA, S.A. DE C.V.</td>\n",
       "      <td>PL/658/EXP/ES/2015</td>\n",
       "      <td>-116.92140</td>\n",
       "      <td>32.47641</td>\n",
       "      <td>2039</td>\n",
       "      <td>19.35</td>\n",
       "      <td>premium</td>\n",
       "      <td></td>\n",
       "      <td></td>\n",
       "      <td></td>\n",
       "      <td></td>\n",
       "      <td></td>\n",
       "    </tr>\n",
       "    <tr>\n",
       "      <th>2</th>\n",
       "      <td>ESTACION DE SERVICIO CALAFIA, S.A. DE C.V.</td>\n",
       "      <td>PL/658/EXP/ES/2015</td>\n",
       "      <td>-116.92140</td>\n",
       "      <td>32.47641</td>\n",
       "      <td>2039</td>\n",
       "      <td>18.45</td>\n",
       "      <td>diesel</td>\n",
       "      <td></td>\n",
       "      <td></td>\n",
       "      <td></td>\n",
       "      <td></td>\n",
       "      <td></td>\n",
       "    </tr>\n",
       "    <tr>\n",
       "      <th>3</th>\n",
       "      <td>DIGEPE, S.A. DE C.V. (07356)</td>\n",
       "      <td>PL/902/EXP/ES/2015</td>\n",
       "      <td>-99.74484</td>\n",
       "      <td>20.30370</td>\n",
       "      <td>2040</td>\n",
       "      <td>18.65</td>\n",
       "      <td>regular</td>\n",
       "      <td></td>\n",
       "      <td></td>\n",
       "      <td></td>\n",
       "      <td></td>\n",
       "      <td></td>\n",
       "    </tr>\n",
       "    <tr>\n",
       "      <th>4</th>\n",
       "      <td>DIGEPE, S.A. DE C.V. (07356)</td>\n",
       "      <td>PL/902/EXP/ES/2015</td>\n",
       "      <td>-99.74484</td>\n",
       "      <td>20.30370</td>\n",
       "      <td>2040</td>\n",
       "      <td>18.99</td>\n",
       "      <td>premium</td>\n",
       "      <td></td>\n",
       "      <td></td>\n",
       "      <td></td>\n",
       "      <td></td>\n",
       "      <td></td>\n",
       "    </tr>\n",
       "  </tbody>\n",
       "</table>\n",
       "</div>"
      ],
      "text/plain": [
       "                                         name              cre_id        Lng  \\\n",
       "0  ESTACION DE SERVICIO CALAFIA, S.A. DE C.V.  PL/658/EXP/ES/2015 -116.92140   \n",
       "1  ESTACION DE SERVICIO CALAFIA, S.A. DE C.V.  PL/658/EXP/ES/2015 -116.92140   \n",
       "2  ESTACION DE SERVICIO CALAFIA, S.A. DE C.V.  PL/658/EXP/ES/2015 -116.92140   \n",
       "3                DIGEPE, S.A. DE C.V. (07356)  PL/902/EXP/ES/2015  -99.74484   \n",
       "4                DIGEPE, S.A. DE C.V. (07356)  PL/902/EXP/ES/2015  -99.74484   \n",
       "\n",
       "        Lat  place_id  gas_price gas type Rating User Ratings Google_Name  \\\n",
       "0  32.47641      2039      17.39  regular                                   \n",
       "1  32.47641      2039      19.35  premium                                   \n",
       "2  32.47641      2039      18.45   diesel                                   \n",
       "3  20.30370      2040      18.65  regular                                   \n",
       "4  20.30370      2040      18.99  premium                                   \n",
       "\n",
       "  Address Types  \n",
       "0                \n",
       "1                \n",
       "2                \n",
       "3                \n",
       "4                "
      ]
     },
     "execution_count": 10,
     "metadata": {},
     "output_type": "execute_result"
    }
   ],
   "source": [
    "Gas_Stations_df[\"Rating\"] = \"\"\n",
    "Gas_Stations_df[\"User Ratings\"] =\"\" \n",
    "Gas_Stations_df[\"Google_Name\"] = \"\"\n",
    "Gas_Stations_df[\"Address\"]= \"\"\n",
    "Gas_Stations_df[\"Types\"]= \"\"\n",
    "Gas_Stations_df.head()"
   ]
  },
  {
   "cell_type": "markdown",
   "metadata": {},
   "source": [
    "2. Setting up the url and parameters for the API request"
   ]
  },
  {
   "cell_type": "code",
   "execution_count": 11,
   "metadata": {},
   "outputs": [],
   "source": [
    "# URL\n",
    "url_base = \"https://maps.googleapis.com/maps/api/place/nearbysearch/json\"\n",
    "\n",
    "# Parameters\n",
    "params = {\n",
    "    \"rankby\":\"distance\",\n",
    "    \"type\": \"gas_station\",\n",
    "    \"keyword\": \"fuel station\",\n",
    "    \"key\": gkey    \n",
    "}"
   ]
  },
  {
   "cell_type": "markdown",
   "metadata": {},
   "source": [
    "3. Because a 12,000+ calls had to be made to the API, we splitted up our database into five equal parts to use different api_keys"
   ]
  },
  {
   "cell_type": "code",
   "execution_count": 12,
   "metadata": {},
   "outputs": [],
   "source": [
    "carlos_df = Gas_Stations_df.iloc[0:2491,:]\n",
    "rodrigo_df = Gas_Stations_df.iloc[2491:4983,:]\n",
    "pau_df = Gas_Stations_df.iloc[4983:7475,:]\n",
    "eduardo_df = Gas_Stations_df.iloc[7475:9967,:]\n",
    "sam_df =  Gas_Stations_df.iloc[9967:12460,:]"
   ]
  },
  {
   "cell_type": "markdown",
   "metadata": {},
   "source": [
    "4. Initiating the loop to get the results for every Sub-DataFrame created"
   ]
  },
  {
   "cell_type": "code",
   "execution_count": 13,
   "metadata": {
    "collapsed": true
   },
   "outputs": [
    {
     "ename": "IndentationError",
     "evalue": "unexpected unindent (<ipython-input-13-eb7a96487938>, line 26)",
     "output_type": "error",
     "traceback": [
      "\u001b[1;36m  File \u001b[1;32m\"<ipython-input-13-eb7a96487938>\"\u001b[1;36m, line \u001b[1;32m26\u001b[0m\n\u001b[1;33m    active_df    except (KeyError, IndexError):\u001b[0m\n\u001b[1;37m                                               ^\u001b[0m\n\u001b[1;31mIndentationError\u001b[0m\u001b[1;31m:\u001b[0m unexpected unindent\n"
     ]
    }
   ],
   "source": [
    "# We use iterrrows so we are able to get Latitude and Longitude from each row and insert both as one variable in params\n",
    "for index, row in pau_df.iterrows():\n",
    "    lat=row[\"Lat\"]\n",
    "    lon=row[\"Lng\"]\n",
    "\n",
    "    # We add the location as variable of the parameters, which is the most important one for our requests\n",
    "    params[\"location\"] = f\"{lat},{lon}\"\n",
    "    \n",
    "    active_df = carlos_df # Here we change the name of the DataFrame that was used for the loop\n",
    "    \n",
    "    # We use this print to check that every requests is executing\n",
    "    print(f\"Results for observation: {index}\")\n",
    "    \n",
    "    # We try to store the values Rating, User Ratings, the name given by Google to that location and its address\n",
    "    try:\n",
    "        response = requests.get(url_base, params=params).json()\n",
    "        active_df.loc[index, \"Rating\"] = response[\"results\"][0][\"rating\"]\n",
    "        active_df.loc[index, \"User Ratings\"] = response[\"results\"][0][\"user_ratings_total\"]\n",
    "        active_df.loc[index, \"Google_Name\"] = response[\"results\"][0][\"name\"]\n",
    "        active_df.loc[index, \"Address\"] = response[\"results\"][0][\"vicinity\"]\n",
    "\n",
    "    # We also inserted the types of establishment the gas station has, here is where we use the function defined on the top\n",
    "        string = response[\"results\"][0][\"types\"]\n",
    "        string_value = listToString(string)\n",
    "        string_value = string_value.replace(\" \",\", \")\n",
    "    except (KeyError, IndexError):\n",
    "        print(\"Missing field/result... skipping.\")\n",
    "\n",
    "# To storage the requests\n",
    "        json_list.append(response)"
   ]
  },
  {
   "cell_type": "markdown",
   "metadata": {},
   "source": [
    "5. After obtaining all the data, we stored the 5 parts in different csv Files, read them and then concatenate them to get a final DataFrame"
   ]
  },
  {
   "cell_type": "code",
   "execution_count": null,
   "metadata": {},
   "outputs": [],
   "source": [
    "carlos_df.head()"
   ]
  },
  {
   "cell_type": "code",
   "execution_count": null,
   "metadata": {},
   "outputs": [],
   "source": [
    "carlos_df.to_csv(\"Resources/part1.csv\")"
   ]
  },
  {
   "cell_type": "code",
   "execution_count": 14,
   "metadata": {},
   "outputs": [],
   "source": [
    "# Reding all CSV\n",
    "part1 = \"Resources/part1.csv\"\n",
    "part2 = \"Resources/part2.csv\"\n",
    "part3 = \"Resources/part3.csv\"\n",
    "part4 = \"Resources/part4.csv\"\n",
    "part5 = \"Resources/part5.csv\"\n",
    "part1_df = pd.read_csv(part1)\n",
    "part2_df = pd.read_csv(part2)\n",
    "part3_df = pd.read_csv(part3)\n",
    "part4_df = pd.read_csv(part4)\n",
    "part5_df = pd.read_csv(part5)"
   ]
  },
  {
   "cell_type": "code",
   "execution_count": 15,
   "metadata": {},
   "outputs": [
    {
     "data": {
      "text/html": [
       "<div>\n",
       "<style scoped>\n",
       "    .dataframe tbody tr th:only-of-type {\n",
       "        vertical-align: middle;\n",
       "    }\n",
       "\n",
       "    .dataframe tbody tr th {\n",
       "        vertical-align: top;\n",
       "    }\n",
       "\n",
       "    .dataframe thead th {\n",
       "        text-align: right;\n",
       "    }\n",
       "</style>\n",
       "<table border=\"1\" class=\"dataframe\">\n",
       "  <thead>\n",
       "    <tr style=\"text-align: right;\">\n",
       "      <th></th>\n",
       "      <th>name</th>\n",
       "      <th>cre_id</th>\n",
       "      <th>Lng</th>\n",
       "      <th>Lat</th>\n",
       "      <th>place_id</th>\n",
       "      <th>gas_price</th>\n",
       "      <th>gas type</th>\n",
       "      <th>Rating</th>\n",
       "      <th>User Ratings</th>\n",
       "      <th>Google_Name</th>\n",
       "      <th>Address</th>\n",
       "      <th>Types</th>\n",
       "    </tr>\n",
       "  </thead>\n",
       "  <tbody>\n",
       "    <tr>\n",
       "      <th>0</th>\n",
       "      <td>ESTACION DE SERVICIO CALAFIA, S.A. DE C.V.</td>\n",
       "      <td>PL/658/EXP/ES/2015</td>\n",
       "      <td>-116.92140</td>\n",
       "      <td>32.47641</td>\n",
       "      <td>2039</td>\n",
       "      <td>17.39</td>\n",
       "      <td>regular</td>\n",
       "      <td>4.3</td>\n",
       "      <td>3.0</td>\n",
       "      <td>Gasolinera Pemex</td>\n",
       "      <td>Av de los Insurgentes No. 1910, Libramiento, T...</td>\n",
       "      <td>gas_station, point_of_interest, establishment</td>\n",
       "    </tr>\n",
       "    <tr>\n",
       "      <th>1</th>\n",
       "      <td>DIGEPE, S.A. DE C.V. (07356)</td>\n",
       "      <td>PL/902/EXP/ES/2015</td>\n",
       "      <td>-99.74484</td>\n",
       "      <td>20.30370</td>\n",
       "      <td>2040</td>\n",
       "      <td>18.65</td>\n",
       "      <td>regular</td>\n",
       "      <td>3.9</td>\n",
       "      <td>13.0</td>\n",
       "      <td>Pemex</td>\n",
       "      <td>Carrt. Pachuca-Queretaro Km 58+500, Huichapan</td>\n",
       "      <td>gas_station, point_of_interest, establishment</td>\n",
       "    </tr>\n",
       "    <tr>\n",
       "      <th>2</th>\n",
       "      <td>DIAZ GAS, S.A. DE C.V.</td>\n",
       "      <td>PL/760/EXP/ES/2015</td>\n",
       "      <td>-106.45140</td>\n",
       "      <td>31.71947</td>\n",
       "      <td>2041</td>\n",
       "      <td>12.82</td>\n",
       "      <td>regular</td>\n",
       "      <td>4.3</td>\n",
       "      <td>261.0</td>\n",
       "      <td>TotalGas</td>\n",
       "      <td>Av. López Mateos 1604, La Plata, Cd Juárez</td>\n",
       "      <td>gas_station, point_of_interest, establishment</td>\n",
       "    </tr>\n",
       "    <tr>\n",
       "      <th>3</th>\n",
       "      <td>COMBU-EXPRESS, S.A. DE C.V.</td>\n",
       "      <td>PL/825/EXP/ES/2015</td>\n",
       "      <td>-103.30420</td>\n",
       "      <td>20.71413</td>\n",
       "      <td>2042</td>\n",
       "      <td>18.64</td>\n",
       "      <td>regular</td>\n",
       "      <td>4.0</td>\n",
       "      <td>105.0</td>\n",
       "      <td>Gasolinera Pemex</td>\n",
       "      <td>Perif. Nte. Ricardo Flores Magón Ote. No. 950,...</td>\n",
       "      <td>gas_station, point_of_interest, establishment</td>\n",
       "    </tr>\n",
       "    <tr>\n",
       "      <th>4</th>\n",
       "      <td>PETROMAX, S.A. DE C.V.</td>\n",
       "      <td>PL/585/EXP/ES/2015</td>\n",
       "      <td>-98.29977</td>\n",
       "      <td>26.03787</td>\n",
       "      <td>2043</td>\n",
       "      <td>14.79</td>\n",
       "      <td>regular</td>\n",
       "      <td>4.0</td>\n",
       "      <td>10.0</td>\n",
       "      <td>Petromax</td>\n",
       "      <td>Río Purificación 800, Luis Donaldo Colosio Mur...</td>\n",
       "      <td>gas_station, point_of_interest, establishment</td>\n",
       "    </tr>\n",
       "  </tbody>\n",
       "</table>\n",
       "</div>"
      ],
      "text/plain": [
       "                                         name              cre_id        Lng  \\\n",
       "0  ESTACION DE SERVICIO CALAFIA, S.A. DE C.V.  PL/658/EXP/ES/2015 -116.92140   \n",
       "1                DIGEPE, S.A. DE C.V. (07356)  PL/902/EXP/ES/2015  -99.74484   \n",
       "2                      DIAZ GAS, S.A. DE C.V.  PL/760/EXP/ES/2015 -106.45140   \n",
       "3                 COMBU-EXPRESS, S.A. DE C.V.  PL/825/EXP/ES/2015 -103.30420   \n",
       "4                      PETROMAX, S.A. DE C.V.  PL/585/EXP/ES/2015  -98.29977   \n",
       "\n",
       "        Lat  place_id  gas_price gas type  Rating  User Ratings  \\\n",
       "0  32.47641      2039      17.39  regular     4.3           3.0   \n",
       "1  20.30370      2040      18.65  regular     3.9          13.0   \n",
       "2  31.71947      2041      12.82  regular     4.3         261.0   \n",
       "3  20.71413      2042      18.64  regular     4.0         105.0   \n",
       "4  26.03787      2043      14.79  regular     4.0          10.0   \n",
       "\n",
       "        Google_Name                                            Address  \\\n",
       "0  Gasolinera Pemex  Av de los Insurgentes No. 1910, Libramiento, T...   \n",
       "1             Pemex      Carrt. Pachuca-Queretaro Km 58+500, Huichapan   \n",
       "2          TotalGas         Av. López Mateos 1604, La Plata, Cd Juárez   \n",
       "3  Gasolinera Pemex  Perif. Nte. Ricardo Flores Magón Ote. No. 950,...   \n",
       "4          Petromax  Río Purificación 800, Luis Donaldo Colosio Mur...   \n",
       "\n",
       "                                           Types  \n",
       "0  gas_station, point_of_interest, establishment  \n",
       "1  gas_station, point_of_interest, establishment  \n",
       "2  gas_station, point_of_interest, establishment  \n",
       "3  gas_station, point_of_interest, establishment  \n",
       "4  gas_station, point_of_interest, establishment  "
      ]
     },
     "execution_count": 15,
     "metadata": {},
     "output_type": "execute_result"
    }
   ],
   "source": [
    "# Gathering all the Frames into a list and doing the concat method\n",
    "Frames = [part1_df,part2_df,part3_df,part4_df,part5_df]\n",
    "Mexico_Gas_Stations = pd.concat(Frames)\n",
    "# Resetting index\n",
    "Mexico_Gas_Stations = Mexico_Gas_Stations.reset_index(drop=True)\n",
    "# Dropping the first two columns that were not valuable\n",
    "Mexico_Gas_Stations = Mexico_Gas_Stations.drop(columns=[\"Unnamed: 0\",\"index\"])\n",
    "Mexico_Gas_Stations.head()\n"
   ]
  },
  {
   "cell_type": "code",
   "execution_count": 16,
   "metadata": {},
   "outputs": [
    {
     "data": {
      "text/plain": [
       "(12460, 12)"
      ]
     },
     "execution_count": 16,
     "metadata": {},
     "output_type": "execute_result"
    }
   ],
   "source": [
    "Mexico_Gas_Stations.shape"
   ]
  },
  {
   "cell_type": "markdown",
   "metadata": {},
   "source": [
    "## Part 3 - Using new DataFrame with data from API, cleaning and plotting"
   ]
  },
  {
   "cell_type": "markdown",
   "metadata": {},
   "source": [
    "1. Saving all missing values in a different DataFrame and then removing them from the original one"
   ]
  },
  {
   "cell_type": "code",
   "execution_count": 17,
   "metadata": {},
   "outputs": [
    {
     "data": {
      "text/plain": [
       "(24, 12)"
      ]
     },
     "execution_count": 17,
     "metadata": {},
     "output_type": "execute_result"
    }
   ],
   "source": [
    "missing_df = Mexico_Gas_Stations[Mexico_Gas_Stations['Rating'].isna()]\n",
    "missing_df.shape"
   ]
  },
  {
   "cell_type": "code",
   "execution_count": 18,
   "metadata": {},
   "outputs": [
    {
     "data": {
      "text/plain": [
       "(12436, 12)"
      ]
     },
     "execution_count": 18,
     "metadata": {},
     "output_type": "execute_result"
    }
   ],
   "source": [
    "Mexico_Gas_Stations = Mexico_Gas_Stations.dropna()\n",
    "Mexico_Gas_Stations.shape"
   ]
  },
  {
   "cell_type": "markdown",
   "metadata": {},
   "source": [
    "2. Checking if there are any duplicated values and dropping them from the original DF "
   ]
  },
  {
   "cell_type": "code",
   "execution_count": 19,
   "metadata": {},
   "outputs": [
    {
     "data": {
      "text/plain": [
       "12197    ADMINISTRADORA DEL COLORADO S. DE R.L. DE C.V.\n",
       "Name: name, dtype: object"
      ]
     },
     "execution_count": 19,
     "metadata": {},
     "output_type": "execute_result"
    }
   ],
   "source": [
    "# identifying \n",
    "duplicated_station = Mexico_Gas_Stations.loc[Mexico_Gas_Stations[[\"name\",\"Lat\",\"Lng\"]].duplicated(),\"name\"]\n",
    "duplicated_station"
   ]
  },
  {
   "cell_type": "code",
   "execution_count": 20,
   "metadata": {},
   "outputs": [
    {
     "data": {
      "text/plain": [
       "(12435, 12)"
      ]
     },
     "execution_count": 20,
     "metadata": {},
     "output_type": "execute_result"
    }
   ],
   "source": [
    "Mexico_Gas_Stations = Mexico_Gas_Stations.drop_duplicates(subset=[\"name\",\"Lat\",\"Lng\"])\n",
    "Mexico_Gas_Stations.shape"
   ]
  },
  {
   "cell_type": "markdown",
   "metadata": {},
   "source": [
    "3. Inserting first plot to check how many gas stations offer Regular, Premium and Diesel products."
   ]
  },
  {
   "cell_type": "code",
   "execution_count": 21,
   "metadata": {},
   "outputs": [
    {
     "data": {
      "text/html": [
       "<div>\n",
       "<style scoped>\n",
       "    .dataframe tbody tr th:only-of-type {\n",
       "        vertical-align: middle;\n",
       "    }\n",
       "\n",
       "    .dataframe tbody tr th {\n",
       "        vertical-align: top;\n",
       "    }\n",
       "\n",
       "    .dataframe thead th {\n",
       "        text-align: right;\n",
       "    }\n",
       "</style>\n",
       "<table border=\"1\" class=\"dataframe\">\n",
       "  <thead>\n",
       "    <tr style=\"text-align: right;\">\n",
       "      <th></th>\n",
       "      <th>place_id</th>\n",
       "    </tr>\n",
       "    <tr>\n",
       "      <th>gas type</th>\n",
       "      <th></th>\n",
       "    </tr>\n",
       "  </thead>\n",
       "  <tbody>\n",
       "    <tr>\n",
       "      <th>diesel</th>\n",
       "      <td>821</td>\n",
       "    </tr>\n",
       "    <tr>\n",
       "      <th>premium</th>\n",
       "      <td>753</td>\n",
       "    </tr>\n",
       "    <tr>\n",
       "      <th>regular</th>\n",
       "      <td>10861</td>\n",
       "    </tr>\n",
       "  </tbody>\n",
       "</table>\n",
       "</div>"
      ],
      "text/plain": [
       "          place_id\n",
       "gas type          \n",
       "diesel         821\n",
       "premium        753\n",
       "regular      10861"
      ]
     },
     "execution_count": 21,
     "metadata": {},
     "output_type": "execute_result"
    }
   ],
   "source": [
    "# Creating subset to have data counted by gas type\n",
    "gas_type_df = Mexico_Gas_Stations.groupby(Mexico_Gas_Stations[\"gas type\"]).count()[\"place_id\"].to_frame()\n",
    "gas_type_df"
   ]
  },
  {
   "cell_type": "code",
   "execution_count": 22,
   "metadata": {},
   "outputs": [
    {
     "data": {
      "image/png": "[encoded data removed]",
      "text/plain": [
       "<Figure size 1080x1080 with 1 Axes>"
      ]
     },
     "metadata": {},
     "output_type": "display_data"
    }
   ],
   "source": [
    "# Defining parameters\n",
    "plt.figure(figsize=(15,15))\n",
    "colors = [\"grey\", \"red\", \"limegreen\"]\n",
    "axes = plt.subplot(122, aspect=\"equal\")\n",
    "explode = (0,0,0.2)\n",
    "\n",
    "# Creating plot\n",
    "gas_type_df.plot(kind=\"pie\",explode=explode, autopct=\"%1.1f%%\", colors=colors, ax=axes, y = \"place_id\", \n",
    "                     startangle=45, shadow=True, legend = False,fontsize=14)\n",
    "plt.title(\"Percentage of gas type by each gas station\")\n",
    "plt.show()"
   ]
  },
  {
   "cell_type": "markdown",
   "metadata": {},
   "source": [
    "4. Creating subsets for each gas type to show 2 different Histograms"
   ]
  },
  {
   "cell_type": "code",
   "execution_count": 23,
   "metadata": {},
   "outputs": [
    {
     "data": {
      "text/plain": [
       "Lng             -100.972077\n",
       "Lat               22.238439\n",
       "place_id        9737.540742\n",
       "gas_price         18.288123\n",
       "Rating             3.297265\n",
       "User Ratings      55.330080\n",
       "dtype: float64"
      ]
     },
     "execution_count": 23,
     "metadata": {},
     "output_type": "execute_result"
    }
   ],
   "source": [
    "diesel = Mexico_Gas_Stations.loc[Mexico_Gas_Stations[\"gas type\"]==\"diesel\"]\n",
    "premium = Mexico_Gas_Stations.loc[Mexico_Gas_Stations[\"gas type\"]==\"premium\"]\n",
    "regular = Mexico_Gas_Stations.loc[Mexico_Gas_Stations[\"gas type\"]==\"regular\"]\n",
    "diesel.mean() # Price mean $19.19\n",
    "premium.mean() # Price mean $19.02\n",
    "regular.mean() # Price mean $18.28"
   ]
  },
  {
   "cell_type": "markdown",
   "metadata": {},
   "source": [
    "5. Creating overlapped histogram to compare the behaviour of the prices between the three gas types"
   ]
  },
  {
   "cell_type": "code",
   "execution_count": 24,
   "metadata": {},
   "outputs": [
    {
     "data": {
      "image/png": "[encoded data removed]",
      "text/plain": [
       "<Figure size 1080x600 with 1 Axes>"
      ]
     },
     "metadata": {
      "needs_background": "light"
     },
     "output_type": "display_data"
    }
   ],
   "source": [
    "plt.figure(figsize=(9, 5), dpi=120)\n",
    "plt.hist(diesel[\"gas_price\"], 10, density=True, alpha=0.7, label=\"Diesel\")\n",
    "plt.hist(premium[\"gas_price\"], 10, density=True, alpha=0.7, label=\"Premium\")\n",
    "plt.hist(regular[\"gas_price\"], 10, density=True, alpha=0.7, label=\"Regular\")\n",
    "plt.axvline(diesel[\"gas_price\"].mean(), color='blue', linestyle='dashed', linewidth=1)\n",
    "plt.axvline(premium[\"gas_price\"].mean(), color='orange', linestyle='dashed', linewidth=1)\n",
    "plt.axvline(regular[\"gas_price\"].mean(), color='green', linestyle='dashed', linewidth=1)\n",
    "plt.legend()  \n",
    "plt.show()"
   ]
  },
  {
   "cell_type": "markdown",
   "metadata": {},
   "source": [
    "6. Creating 3 histograms to compare the behaviour of the ratings between the three gas types"
   ]
  },
  {
   "cell_type": "code",
   "execution_count": 25,
   "metadata": {},
   "outputs": [
    {
     "data": {
      "image/png": "[encoded data removed]",
      "text/plain": [
       "<Figure size 432x288 with 4 Axes>"
      ]
     },
     "metadata": {
      "needs_background": "light"
     },
     "output_type": "display_data"
    }
   ],
   "source": [
    "Mexico_Gas_Stations[\"Rating\"].hist(by=Mexico_Gas_Stations[\"gas type\"], bins=19, color=\"green\")\n",
    "plt.show()"
   ]
  },
  {
   "cell_type": "markdown",
   "metadata": {},
   "source": [
    "6. Creating a boxplot from Ratings to check if there are any outliers"
   ]
  },
  {
   "cell_type": "code",
   "execution_count": 26,
   "metadata": {},
   "outputs": [
    {
     "data": {
      "image/png": "[encoded data removed]",
      "text/plain": [
       "<Figure size 432x288 with 1 Axes>"
      ]
     },
     "metadata": {
      "needs_background": "light"
     },
     "output_type": "display_data"
    }
   ],
   "source": [
    "fig1, ax1 = plt.subplots()\n",
    "ax1.set_title('Rating Distribution')\n",
    "ax1.set_ylabel('Rating')\n",
    "ax1.boxplot(Mexico_Gas_Stations[\"Rating\"])\n",
    "plt.show()"
   ]
  },
  {
   "cell_type": "markdown",
   "metadata": {},
   "source": [
    "7. We decided to create a DF using cut, getting the mean of User Ratings and Gas Price by a Rating scale"
   ]
  },
  {
   "cell_type": "code",
   "execution_count": 27,
   "metadata": {},
   "outputs": [
    {
     "data": {
      "text/html": [
       "<div>\n",
       "<style scoped>\n",
       "    .dataframe tbody tr th:only-of-type {\n",
       "        vertical-align: middle;\n",
       "    }\n",
       "\n",
       "    .dataframe tbody tr th {\n",
       "        vertical-align: top;\n",
       "    }\n",
       "\n",
       "    .dataframe thead th {\n",
       "        text-align: right;\n",
       "    }\n",
       "</style>\n",
       "<table border=\"1\" class=\"dataframe\">\n",
       "  <thead>\n",
       "    <tr style=\"text-align: right;\">\n",
       "      <th></th>\n",
       "      <th>User Ratings</th>\n",
       "      <th>gas_price</th>\n",
       "    </tr>\n",
       "    <tr>\n",
       "      <th>Ratings</th>\n",
       "      <th></th>\n",
       "      <th></th>\n",
       "    </tr>\n",
       "  </thead>\n",
       "  <tbody>\n",
       "    <tr>\n",
       "      <th>&lt;0.99</th>\n",
       "      <td>1.223404</td>\n",
       "      <td>18.406064</td>\n",
       "    </tr>\n",
       "    <tr>\n",
       "      <th>1-1.99</th>\n",
       "      <td>2.342342</td>\n",
       "      <td>18.418468</td>\n",
       "    </tr>\n",
       "    <tr>\n",
       "      <th>2-2.99</th>\n",
       "      <td>7.935484</td>\n",
       "      <td>18.381154</td>\n",
       "    </tr>\n",
       "    <tr>\n",
       "      <th>3-3.99</th>\n",
       "      <td>78.232859</td>\n",
       "      <td>18.416396</td>\n",
       "    </tr>\n",
       "    <tr>\n",
       "      <th>4-4.49</th>\n",
       "      <td>69.401521</td>\n",
       "      <td>18.317422</td>\n",
       "    </tr>\n",
       "    <tr>\n",
       "      <th>4.49-5.00</th>\n",
       "      <td>9.546012</td>\n",
       "      <td>18.484755</td>\n",
       "    </tr>\n",
       "  </tbody>\n",
       "</table>\n",
       "</div>"
      ],
      "text/plain": [
       "           User Ratings  gas_price\n",
       "Ratings                           \n",
       "<0.99          1.223404  18.406064\n",
       "1-1.99         2.342342  18.418468\n",
       "2-2.99         7.935484  18.381154\n",
       "3-3.99        78.232859  18.416396\n",
       "4-4.49        69.401521  18.317422\n",
       "4.49-5.00      9.546012  18.484755"
      ]
     },
     "execution_count": 27,
     "metadata": {},
     "output_type": "execute_result"
    }
   ],
   "source": [
    "# bins for Rating\n",
    "np.percentile(Mexico_Gas_Stations[\"User Ratings\"], np.arange(0,100, 20))\n",
    "bins = [0,1,2,3,4,4.5,5]\n",
    "names = [\"<0.99\", \"1-1.99\", \"2-2.99\", \"3-3.99\",\"4-4.49\", \"4.49-5.00\"]\n",
    "bins_rating = Mexico_Gas_Stations\n",
    "bins_rating[\"Ratings\"]=pd.cut(bins_rating[\"Rating\"], bins, labels=names)\n",
    "bins_rating= bins_rating.groupby([\"Ratings\"])\n",
    "bins_rating= bins_rating[[\"Ratings\", \"User Ratings\", \"gas_price\"]]\n",
    "bins_rating = bins_rating.mean()\n",
    "bins_rating"
   ]
  },
  {
   "cell_type": "code",
   "execution_count": 28,
   "metadata": {},
   "outputs": [
    {
     "data": {
      "text/html": [
       "<div>\n",
       "<style scoped>\n",
       "    .dataframe tbody tr th:only-of-type {\n",
       "        vertical-align: middle;\n",
       "    }\n",
       "\n",
       "    .dataframe tbody tr th {\n",
       "        vertical-align: top;\n",
       "    }\n",
       "\n",
       "    .dataframe thead th {\n",
       "        text-align: right;\n",
       "    }\n",
       "</style>\n",
       "<table border=\"1\" class=\"dataframe\">\n",
       "  <thead>\n",
       "    <tr style=\"text-align: right;\">\n",
       "      <th></th>\n",
       "      <th>User Ratings</th>\n",
       "    </tr>\n",
       "    <tr>\n",
       "      <th>Ratings</th>\n",
       "      <th></th>\n",
       "    </tr>\n",
       "  </thead>\n",
       "  <tbody>\n",
       "    <tr>\n",
       "      <th>&lt;0.99</th>\n",
       "      <td>188</td>\n",
       "    </tr>\n",
       "    <tr>\n",
       "      <th>1-1.99</th>\n",
       "      <td>111</td>\n",
       "    </tr>\n",
       "    <tr>\n",
       "      <th>2-2.99</th>\n",
       "      <td>589</td>\n",
       "    </tr>\n",
       "    <tr>\n",
       "      <th>3-3.99</th>\n",
       "      <td>6257</td>\n",
       "    </tr>\n",
       "    <tr>\n",
       "      <th>4-4.49</th>\n",
       "      <td>2498</td>\n",
       "    </tr>\n",
       "    <tr>\n",
       "      <th>4.49-5.00</th>\n",
       "      <td>978</td>\n",
       "    </tr>\n",
       "  </tbody>\n",
       "</table>\n",
       "</div>"
      ],
      "text/plain": [
       "           User Ratings\n",
       "Ratings                \n",
       "<0.99               188\n",
       "1-1.99              111\n",
       "2-2.99              589\n",
       "3-3.99             6257\n",
       "4-4.49             2498\n",
       "4.49-5.00           978"
      ]
     },
     "execution_count": 28,
     "metadata": {},
     "output_type": "execute_result"
    }
   ],
   "source": [
    "count_stations = Mexico_Gas_Stations\n",
    "count_stations[\"Ratings\"]=pd.cut(count_stations[\"Rating\"], bins, labels=names)\n",
    "count_stations= count_stations.groupby([\"Ratings\"])\n",
    "count_stations= count_stations[[\"User Ratings\"]]\n",
    "count_stations = count_stations.count()\n",
    "count_stations"
   ]
  },
  {
   "cell_type": "markdown",
   "metadata": {},
   "source": [
    "# Note: Someone has to explain that there is no relation between the User Ratings and the prices"
   ]
  },
  {
   "cell_type": "markdown",
   "metadata": {},
   "source": [
    "8. As we didn't find any significant relationship, we got the gas with the most User Ratings to check for any hint"
   ]
  },
  {
   "cell_type": "code",
   "execution_count": 29,
   "metadata": {},
   "outputs": [],
   "source": [
    "# We use this code to show the whole string of the Types Column\n",
    "pd.options.display.max_colwidth = 100"
   ]
  },
  {
   "cell_type": "code",
   "execution_count": 30,
   "metadata": {},
   "outputs": [
    {
     "data": {
      "text/plain": [
       "2071    gas_station, restaurant, food, point_of_interest, store, establishment\n",
       "Name: Types, dtype: object"
      ]
     },
     "execution_count": 30,
     "metadata": {},
     "output_type": "execute_result"
    }
   ],
   "source": [
    "Mexico_Gas_Stations.loc[Mexico_Gas_Stations[\"User Ratings\"]== Mexico_Gas_Stations[\"User Ratings\"].max()].drop(columns=\"Ratings\")[\"Types\"]"
   ]
  },
  {
   "cell_type": "markdown",
   "metadata": {},
   "source": [
    "8.1 We got the unique types from the gas types with Rating = 0"
   ]
  },
  {
   "cell_type": "code",
   "execution_count": 31,
   "metadata": {},
   "outputs": [
    {
     "data": {
      "text/html": [
       "<div>\n",
       "<style scoped>\n",
       "    .dataframe tbody tr th:only-of-type {\n",
       "        vertical-align: middle;\n",
       "    }\n",
       "\n",
       "    .dataframe tbody tr th {\n",
       "        vertical-align: top;\n",
       "    }\n",
       "\n",
       "    .dataframe thead th {\n",
       "        text-align: right;\n",
       "    }\n",
       "</style>\n",
       "<table border=\"1\" class=\"dataframe\">\n",
       "  <thead>\n",
       "    <tr style=\"text-align: right;\">\n",
       "      <th></th>\n",
       "      <th>gas_price</th>\n",
       "      <th>Rating</th>\n",
       "      <th>Types</th>\n",
       "      <th>Address</th>\n",
       "      <th>User Ratings</th>\n",
       "    </tr>\n",
       "  </thead>\n",
       "  <tbody>\n",
       "    <tr>\n",
       "      <th>7</th>\n",
       "      <td>19.29</td>\n",
       "      <td>0.0</td>\n",
       "      <td>gas_station, point_of_interest, establishment</td>\n",
       "      <td>Calle 15 590, Joyas de Anahuac, Cd Gral Escobedo</td>\n",
       "      <td>0.0</td>\n",
       "    </tr>\n",
       "    <tr>\n",
       "      <th>8</th>\n",
       "      <td>17.65</td>\n",
       "      <td>0.0</td>\n",
       "      <td>gas_station, point_of_interest, establishment</td>\n",
       "      <td>Av Rayon 876, Secc Primera, Obrera, Ensenada</td>\n",
       "      <td>0.0</td>\n",
       "    </tr>\n",
       "    <tr>\n",
       "      <th>17</th>\n",
       "      <td>18.48</td>\n",
       "      <td>0.0</td>\n",
       "      <td>gas_station, point_of_interest, establishment</td>\n",
       "      <td>Carret. Internacional Km 1170, San Cristóbal de las Casas</td>\n",
       "      <td>0.0</td>\n",
       "    </tr>\n",
       "    <tr>\n",
       "      <th>24</th>\n",
       "      <td>18.65</td>\n",
       "      <td>0.0</td>\n",
       "      <td>gas_station, point_of_interest, establishment</td>\n",
       "      <td>Pedregal de Santo Domingo, San Nicolás de los Garza</td>\n",
       "      <td>0.0</td>\n",
       "    </tr>\n",
       "    <tr>\n",
       "      <th>27</th>\n",
       "      <td>17.55</td>\n",
       "      <td>0.0</td>\n",
       "      <td>gas_station, point_of_interest, establishment</td>\n",
       "      <td>Blvd. Cuauhtemoc Sur 3658, Chulavista, Tijuana</td>\n",
       "      <td>0.0</td>\n",
       "    </tr>\n",
       "    <tr>\n",
       "      <th>...</th>\n",
       "      <td>...</td>\n",
       "      <td>...</td>\n",
       "      <td>...</td>\n",
       "      <td>...</td>\n",
       "      <td>...</td>\n",
       "    </tr>\n",
       "    <tr>\n",
       "      <th>12422</th>\n",
       "      <td>19.59</td>\n",
       "      <td>0.0</td>\n",
       "      <td>gas_station, point_of_interest, establishment</td>\n",
       "      <td>Las Reynas, Irapuato</td>\n",
       "      <td>0.0</td>\n",
       "    </tr>\n",
       "    <tr>\n",
       "      <th>12424</th>\n",
       "      <td>19.09</td>\n",
       "      <td>0.0</td>\n",
       "      <td>gas_station, point_of_interest, establishment</td>\n",
       "      <td>A Guanajuato No. 103, Zona Centro, Juventino Rosas</td>\n",
       "      <td>0.0</td>\n",
       "    </tr>\n",
       "    <tr>\n",
       "      <th>12425</th>\n",
       "      <td>17.70</td>\n",
       "      <td>0.0</td>\n",
       "      <td>gas_station, point_of_interest, establishment</td>\n",
       "      <td>Carr. Acambaro - Jerecuaro, Km. 1, s/n, Centro, Acámbaro</td>\n",
       "      <td>0.0</td>\n",
       "    </tr>\n",
       "    <tr>\n",
       "      <th>12433</th>\n",
       "      <td>19.29</td>\n",
       "      <td>0.0</td>\n",
       "      <td>gas_station, point_of_interest, establishment</td>\n",
       "      <td>Calle Postes 114, José María Pino Suárez, Ciudad de México</td>\n",
       "      <td>0.0</td>\n",
       "    </tr>\n",
       "    <tr>\n",
       "      <th>12451</th>\n",
       "      <td>18.67</td>\n",
       "      <td>0.0</td>\n",
       "      <td>gas_station, point_of_interest, establishment</td>\n",
       "      <td>Yautepec de Zaragoza-Jiutepec 17, San Jose, Jiutepec</td>\n",
       "      <td>0.0</td>\n",
       "    </tr>\n",
       "  </tbody>\n",
       "</table>\n",
       "<p>1814 rows × 5 columns</p>\n",
       "</div>"
      ],
      "text/plain": [
       "       gas_price  Rating                                          Types  \\\n",
       "7          19.29     0.0  gas_station, point_of_interest, establishment   \n",
       "8          17.65     0.0  gas_station, point_of_interest, establishment   \n",
       "17         18.48     0.0  gas_station, point_of_interest, establishment   \n",
       "24         18.65     0.0  gas_station, point_of_interest, establishment   \n",
       "27         17.55     0.0  gas_station, point_of_interest, establishment   \n",
       "...          ...     ...                                            ...   \n",
       "12422      19.59     0.0  gas_station, point_of_interest, establishment   \n",
       "12424      19.09     0.0  gas_station, point_of_interest, establishment   \n",
       "12425      17.70     0.0  gas_station, point_of_interest, establishment   \n",
       "12433      19.29     0.0  gas_station, point_of_interest, establishment   \n",
       "12451      18.67     0.0  gas_station, point_of_interest, establishment   \n",
       "\n",
       "                                                          Address  \\\n",
       "7                Calle 15 590, Joyas de Anahuac, Cd Gral Escobedo   \n",
       "8                    Av Rayon 876, Secc Primera, Obrera, Ensenada   \n",
       "17      Carret. Internacional Km 1170, San Cristóbal de las Casas   \n",
       "24            Pedregal de Santo Domingo, San Nicolás de los Garza   \n",
       "27                 Blvd. Cuauhtemoc Sur 3658, Chulavista, Tijuana   \n",
       "...                                                           ...   \n",
       "12422                                        Las Reynas, Irapuato   \n",
       "12424          A Guanajuato No. 103, Zona Centro, Juventino Rosas   \n",
       "12425    Carr. Acambaro - Jerecuaro, Km. 1, s/n, Centro, Acámbaro   \n",
       "12433  Calle Postes 114, José María Pino Suárez, Ciudad de México   \n",
       "12451        Yautepec de Zaragoza-Jiutepec 17, San Jose, Jiutepec   \n",
       "\n",
       "       User Ratings  \n",
       "7               0.0  \n",
       "8               0.0  \n",
       "17              0.0  \n",
       "24              0.0  \n",
       "27              0.0  \n",
       "...             ...  \n",
       "12422           0.0  \n",
       "12424           0.0  \n",
       "12425           0.0  \n",
       "12433           0.0  \n",
       "12451           0.0  \n",
       "\n",
       "[1814 rows x 5 columns]"
      ]
     },
     "execution_count": 31,
     "metadata": {},
     "output_type": "execute_result"
    }
   ],
   "source": [
    "# As we found that the most rated gas has many location Types, we decided to get more info on this\n",
    "Min_UserRating = Mexico_Gas_Stations.loc[Mexico_Gas_Stations[\"User Ratings\"]==0]\n",
    "Min_UserRating = Min_UserRating[[\"gas_price\", \"Rating\",\"Types\",\"Address\", \"User Ratings\"]]\n",
    "Min_UserRating"
   ]
  },
  {
   "cell_type": "code",
   "execution_count": 32,
   "metadata": {},
   "outputs": [
    {
     "data": {
      "text/plain": [
       "array(['gas_station, point_of_interest, establishment',\n",
       "       'gas_station, convenience_store, cafe, food, point_of_interest, store, establishment',\n",
       "       'gas_station, atm, convenience_store, finance, food, point_of_interest, store, establishment',\n",
       "       'gas_station, convenience_store, food, point_of_interest, store, establishment',\n",
       "       'gas_station, convenience_store, car_repair, food, point_of_interest, store, establishment',\n",
       "       'gas_station, atm, finance, cafe, food, point_of_interest, establishment'],\n",
       "      dtype=object)"
      ]
     },
     "execution_count": 32,
     "metadata": {},
     "output_type": "execute_result"
    }
   ],
   "source": [
    "Min_UserRating[\"Types\"].unique()"
   ]
  },
  {
   "cell_type": "markdown",
   "metadata": {},
   "source": [
    "8.2 Then, we did the same for the Gas Stations who have greater User Ratings than the mean value"
   ]
  },
  {
   "cell_type": "markdown",
   "metadata": {},
   "source": [
    "# Discuss method of getting the top Gas Stations"
   ]
  },
  {
   "cell_type": "code",
   "execution_count": 33,
   "metadata": {
    "scrolled": true
   },
   "outputs": [
    {
     "data": {
      "text/html": [
       "<div>\n",
       "<style scoped>\n",
       "    .dataframe tbody tr th:only-of-type {\n",
       "        vertical-align: middle;\n",
       "    }\n",
       "\n",
       "    .dataframe tbody tr th {\n",
       "        vertical-align: top;\n",
       "    }\n",
       "\n",
       "    .dataframe thead th {\n",
       "        text-align: right;\n",
       "    }\n",
       "</style>\n",
       "<table border=\"1\" class=\"dataframe\">\n",
       "  <thead>\n",
       "    <tr style=\"text-align: right;\">\n",
       "      <th></th>\n",
       "      <th>gas_price</th>\n",
       "      <th>Rating</th>\n",
       "      <th>Types</th>\n",
       "      <th>Address</th>\n",
       "      <th>User Ratings</th>\n",
       "    </tr>\n",
       "  </thead>\n",
       "  <tbody>\n",
       "    <tr>\n",
       "      <th>2</th>\n",
       "      <td>12.82</td>\n",
       "      <td>4.3</td>\n",
       "      <td>gas_station, point_of_interest, establishment</td>\n",
       "      <td>Av. López Mateos 1604, La Plata, Cd Juárez</td>\n",
       "      <td>261.0</td>\n",
       "    </tr>\n",
       "    <tr>\n",
       "      <th>3</th>\n",
       "      <td>18.64</td>\n",
       "      <td>4.0</td>\n",
       "      <td>gas_station, point_of_interest, establishment</td>\n",
       "      <td>Perif. Nte. Ricardo Flores Magón Ote. No. 950, Huentitán El Alto, Guadalajara</td>\n",
       "      <td>105.0</td>\n",
       "    </tr>\n",
       "    <tr>\n",
       "      <th>6</th>\n",
       "      <td>19.99</td>\n",
       "      <td>3.9</td>\n",
       "      <td>gas_station, point_of_interest, establishment</td>\n",
       "      <td>Libramiento Ote. y</td>\n",
       "      <td>70.0</td>\n",
       "    </tr>\n",
       "    <tr>\n",
       "      <th>9</th>\n",
       "      <td>17.39</td>\n",
       "      <td>4.1</td>\n",
       "      <td>gas_station, point_of_interest, establishment</td>\n",
       "      <td>Carrt. Libre Tijuana a Ensenada # 3109, Rosarito</td>\n",
       "      <td>61.0</td>\n",
       "    </tr>\n",
       "    <tr>\n",
       "      <th>16</th>\n",
       "      <td>18.09</td>\n",
       "      <td>4.3</td>\n",
       "      <td>gas_station, point_of_interest, establishment</td>\n",
       "      <td>Av. Benito Juárez 1601, La Fuente, Guadalupe</td>\n",
       "      <td>57.0</td>\n",
       "    </tr>\n",
       "  </tbody>\n",
       "</table>\n",
       "</div>"
      ],
      "text/plain": [
       "    gas_price  Rating                                          Types  \\\n",
       "2       12.82     4.3  gas_station, point_of_interest, establishment   \n",
       "3       18.64     4.0  gas_station, point_of_interest, establishment   \n",
       "6       19.99     3.9  gas_station, point_of_interest, establishment   \n",
       "9       17.39     4.1  gas_station, point_of_interest, establishment   \n",
       "16      18.09     4.3  gas_station, point_of_interest, establishment   \n",
       "\n",
       "                                                                          Address  \\\n",
       "2                                      Av. López Mateos 1604, La Plata, Cd Juárez   \n",
       "3   Perif. Nte. Ricardo Flores Magón Ote. No. 950, Huentitán El Alto, Guadalajara   \n",
       "6                                                              Libramiento Ote. y   \n",
       "9                                Carrt. Libre Tijuana a Ensenada # 3109, Rosarito   \n",
       "16                                   Av. Benito Juárez 1601, La Fuente, Guadalupe   \n",
       "\n",
       "    User Ratings  \n",
       "2          261.0  \n",
       "3          105.0  \n",
       "6           70.0  \n",
       "9           61.0  \n",
       "16          57.0  "
      ]
     },
     "execution_count": 33,
     "metadata": {},
     "output_type": "execute_result"
    }
   ],
   "source": [
    "Max_UserRating = Mexico_Gas_Stations.loc[(Mexico_Gas_Stations[\"User Ratings\"]>=Mexico_Gas_Stations[\"User Ratings\"].mean()) & (Mexico_Gas_Stations[\"User Ratings\"]<=Mexico_Gas_Stations[\"User Ratings\"].max())]\n",
    "Max_UserRating = Max_UserRating[[\"gas_price\", \"Rating\",\"Types\",\"Address\", \"User Ratings\"]]\n",
    "Max_UserRating.head()"
   ]
  },
  {
   "cell_type": "code",
   "execution_count": 34,
   "metadata": {
    "scrolled": true
   },
   "outputs": [
    {
     "data": {
      "text/plain": [
       "array(['gas_station, point_of_interest, establishment',\n",
       "       'gas_station, convenience_store, cafe, food, point_of_interest, store, establishment',\n",
       "       'gas_station, point_of_interest, store, establishment',\n",
       "       'gas_station, atm, finance, cafe, food, point_of_interest, establishment',\n",
       "       'gas_station, car_wash, point_of_interest, establishment',\n",
       "       'gas_station, atm, convenience_store, finance, food, point_of_interest, store, establishment',\n",
       "       'gas_station, convenience_store, food, point_of_interest, store, establishment',\n",
       "       'gas_station, atm, convenience_store, finance, restaurant, food, point_of_interest, store, establishment',\n",
       "       'gas_station, restaurant, food, point_of_interest, store, establishment',\n",
       "       'gas_station, car_repair, point_of_interest, establishment',\n",
       "       'gas_station, atm, finance, point_of_interest, establishment',\n",
       "       'gas_station, convenience_store, restaurant, food, point_of_interest, store, establishment',\n",
       "       'gas_station, restaurant, food, point_of_interest, establishment',\n",
       "       'gas_station, convenience_store, grocery_or_supermarket, food, point_of_interest, store, establishment'],\n",
       "      dtype=object)"
      ]
     },
     "execution_count": 34,
     "metadata": {},
     "output_type": "execute_result"
    }
   ],
   "source": [
    "Max_UserRating[\"Types\"].unique()"
   ]
  },
  {
   "cell_type": "markdown",
   "metadata": {},
   "source": [
    "# Someone has to explain that it is very clear that the most Gas Stations rated have more kinds of services on their locations, showing only a visual relationship"
   ]
  },
  {
   "cell_type": "code",
   "execution_count": 35,
   "metadata": {},
   "outputs": [
    {
     "data": {
      "text/html": [
       "<div>\n",
       "<style scoped>\n",
       "    .dataframe tbody tr th:only-of-type {\n",
       "        vertical-align: middle;\n",
       "    }\n",
       "\n",
       "    .dataframe tbody tr th {\n",
       "        vertical-align: top;\n",
       "    }\n",
       "\n",
       "    .dataframe thead th {\n",
       "        text-align: right;\n",
       "    }\n",
       "</style>\n",
       "<table border=\"1\" class=\"dataframe\">\n",
       "  <thead>\n",
       "    <tr style=\"text-align: right;\">\n",
       "      <th></th>\n",
       "      <th>Address</th>\n",
       "    </tr>\n",
       "    <tr>\n",
       "      <th>Types</th>\n",
       "      <th></th>\n",
       "    </tr>\n",
       "  </thead>\n",
       "  <tbody>\n",
       "    <tr>\n",
       "      <th>gas_station, atm, convenience_store, finance, food, point_of_interest, store, establishment</th>\n",
       "      <td>6</td>\n",
       "    </tr>\n",
       "    <tr>\n",
       "      <th>gas_station, atm, convenience_store, finance, restaurant, food, point_of_interest, store, establishment</th>\n",
       "      <td>1</td>\n",
       "    </tr>\n",
       "    <tr>\n",
       "      <th>gas_station, atm, finance, cafe, food, point_of_interest, establishment</th>\n",
       "      <td>36</td>\n",
       "    </tr>\n",
       "    <tr>\n",
       "      <th>gas_station, atm, finance, point_of_interest, establishment</th>\n",
       "      <td>2</td>\n",
       "    </tr>\n",
       "    <tr>\n",
       "      <th>gas_station, car_repair, point_of_interest, establishment</th>\n",
       "      <td>2</td>\n",
       "    </tr>\n",
       "    <tr>\n",
       "      <th>gas_station, car_wash, point_of_interest, establishment</th>\n",
       "      <td>2</td>\n",
       "    </tr>\n",
       "    <tr>\n",
       "      <th>gas_station, convenience_store, cafe, food, point_of_interest, store, establishment</th>\n",
       "      <td>35</td>\n",
       "    </tr>\n",
       "    <tr>\n",
       "      <th>gas_station, convenience_store, food, point_of_interest, store, establishment</th>\n",
       "      <td>9</td>\n",
       "    </tr>\n",
       "    <tr>\n",
       "      <th>gas_station, convenience_store, grocery_or_supermarket, food, point_of_interest, store, establishment</th>\n",
       "      <td>1</td>\n",
       "    </tr>\n",
       "    <tr>\n",
       "      <th>gas_station, convenience_store, restaurant, food, point_of_interest, store, establishment</th>\n",
       "      <td>1</td>\n",
       "    </tr>\n",
       "    <tr>\n",
       "      <th>gas_station, point_of_interest, establishment</th>\n",
       "      <td>3307</td>\n",
       "    </tr>\n",
       "    <tr>\n",
       "      <th>gas_station, point_of_interest, store, establishment</th>\n",
       "      <td>4</td>\n",
       "    </tr>\n",
       "    <tr>\n",
       "      <th>gas_station, restaurant, food, point_of_interest, establishment</th>\n",
       "      <td>1</td>\n",
       "    </tr>\n",
       "    <tr>\n",
       "      <th>gas_station, restaurant, food, point_of_interest, store, establishment</th>\n",
       "      <td>2</td>\n",
       "    </tr>\n",
       "  </tbody>\n",
       "</table>\n",
       "</div>"
      ],
      "text/plain": [
       "                                                                                                      Address\n",
       "Types                                                                                                        \n",
       "gas_station, atm, convenience_store, finance, food, point_of_interest, store, establishment                 6\n",
       "gas_station, atm, convenience_store, finance, restaurant, food, point_of_interest, store, establi...        1\n",
       "gas_station, atm, finance, cafe, food, point_of_interest, establishment                                    36\n",
       "gas_station, atm, finance, point_of_interest, establishment                                                 2\n",
       "gas_station, car_repair, point_of_interest, establishment                                                   2\n",
       "gas_station, car_wash, point_of_interest, establishment                                                     2\n",
       "gas_station, convenience_store, cafe, food, point_of_interest, store, establishment                        35\n",
       "gas_station, convenience_store, food, point_of_interest, store, establishment                               9\n",
       "gas_station, convenience_store, grocery_or_supermarket, food, point_of_interest, store, establish...        1\n",
       "gas_station, convenience_store, restaurant, food, point_of_interest, store, establishment                   1\n",
       "gas_station, point_of_interest, establishment                                                            3307\n",
       "gas_station, point_of_interest, store, establishment                                                        4\n",
       "gas_station, restaurant, food, point_of_interest, establishment                                             1\n",
       "gas_station, restaurant, food, point_of_interest, store, establishment                                      2"
      ]
     },
     "execution_count": 35,
     "metadata": {},
     "output_type": "execute_result"
    }
   ],
   "source": [
    "unique_types = Max_UserRating.groupby(Max_UserRating[\"Types\"]).count()[\"Address\"].to_frame()\n",
    "unique_types\n"
   ]
  },
  {
   "cell_type": "markdown",
   "metadata": {},
   "source": [
    "# Explain also that it is very clear that we cannot conduct a statistical analyisis because more than 90% of stations have the \"standard\" type"
   ]
  },
  {
   "cell_type": "markdown",
   "metadata": {},
   "source": [
    "9. We wanted to check if there was any specific geographic distribution of the gas stations with a scatter plot"
   ]
  },
  {
   "cell_type": "code",
   "execution_count": 71,
   "metadata": {},
   "outputs": [
    {
     "data": {
      "image/png": "[encoded data removed]",
      "text/plain": [
       "<Figure size 960x720 with 1 Axes>"
      ]
     },
     "metadata": {
      "needs_background": "light"
     },
     "output_type": "display_data"
    }
   ],
   "source": [
    "scatter_df = Mexico_Gas_Stations.loc[Mexico_Gas_Stations[\"Lng\"]<=50]\n",
    "plt.figure(figsize=(8, 6), dpi=120)\n",
    "plt.scatter(scatter_df[\"Lng\"],scatter_df[\"Lat\"], edgecolor=\"green\", alpha=0.5)\n",
    "plt.title(\"Gas stations location across the country\")\n",
    "plt.xlabel(\"Longitude\")\n",
    "plt.ylabel(\"Latitude\")\n",
    "plt.show()"
   ]
  },
  {
   "cell_type": "markdown",
   "metadata": {},
   "source": [
    "10. We decided to do the same only for the best ratings (4 and above)"
   ]
  },
  {
   "cell_type": "code",
   "execution_count": 37,
   "metadata": {},
   "outputs": [],
   "source": [
    "top_stations_df = Mexico_Gas_Stations.loc[Mexico_Gas_Stations[\"Rating\"] >= 4]\n",
    "top_stations_df = top_stations_df.loc[top_stations_df[\"Lng\"]<=50]"
   ]
  },
  {
   "cell_type": "code",
   "execution_count": 70,
   "metadata": {
    "scrolled": false
   },
   "outputs": [
    {
     "data": {
      "image/png": "[encoded data removed]",
      "text/plain": [
       "<Figure size 960x720 with 2 Axes>"
      ]
     },
     "metadata": {
      "needs_background": "light"
     },
     "output_type": "display_data"
    }
   ],
   "source": [
    "plt.figure(figsize=(8, 6), dpi=120)\n",
    "plt.hexbin(top_stations_df[\"Lng\"],top_stations_df[\"Lat\"], C=top_stations_df[\"Rating\"])\n",
    "cb=plt.colorbar()\n",
    "cb.set_label(\"Rating\")\n",
    "plt.title(\"Best rated gas stations across Mexico\")\n",
    "plt.xlabel(\"Longitude\")\n",
    "plt.ylabel(\"Latitude\")\n",
    "plt.show()"
   ]
  },
  {
   "cell_type": "markdown",
   "metadata": {},
   "source": [
    "## Part 4 - Heat Maps"
   ]
  },
  {
   "cell_type": "markdown",
   "metadata": {},
   "source": [
    "1. We got the heat map of the gas stations in Mexico for 3 different categories:\n",
    "---\n",
    "### Top 100 best rating"
   ]
  },
  {
   "cell_type": "code",
   "execution_count": 42,
   "metadata": {},
   "outputs": [
    {
     "data": {
      "text/html": [
       "<div>\n",
       "<style scoped>\n",
       "    .dataframe tbody tr th:only-of-type {\n",
       "        vertical-align: middle;\n",
       "    }\n",
       "\n",
       "    .dataframe tbody tr th {\n",
       "        vertical-align: top;\n",
       "    }\n",
       "\n",
       "    .dataframe thead th {\n",
       "        text-align: right;\n",
       "    }\n",
       "</style>\n",
       "<table border=\"1\" class=\"dataframe\">\n",
       "  <thead>\n",
       "    <tr style=\"text-align: right;\">\n",
       "      <th></th>\n",
       "      <th>name</th>\n",
       "      <th>cre_id</th>\n",
       "      <th>Lng</th>\n",
       "      <th>Lat</th>\n",
       "      <th>place_id</th>\n",
       "      <th>gas_price</th>\n",
       "      <th>gas type</th>\n",
       "      <th>Rating</th>\n",
       "      <th>User Ratings</th>\n",
       "      <th>Google_Name</th>\n",
       "      <th>Address</th>\n",
       "      <th>Types</th>\n",
       "      <th>Ratings</th>\n",
       "    </tr>\n",
       "  </thead>\n",
       "  <tbody>\n",
       "    <tr>\n",
       "      <th>2071</th>\n",
       "      <td>ESTACIÓN DE SERVICIOS POMAS SA DE CV</td>\n",
       "      <td>PL/2315/EXP/ES/2015</td>\n",
       "      <td>-103.30660</td>\n",
       "      <td>24.12847</td>\n",
       "      <td>4143</td>\n",
       "      <td>18.79</td>\n",
       "      <td>regular</td>\n",
       "      <td>4.4</td>\n",
       "      <td>2374.0</td>\n",
       "      <td>Truck Stop 001</td>\n",
       "      <td>Km. 105.8, México 49, Juan Aldama</td>\n",
       "      <td>gas_station, restaurant, food, point_of_interest, store, establishment</td>\n",
       "      <td>4-4.49</td>\n",
       "    </tr>\n",
       "    <tr>\n",
       "      <th>468</th>\n",
       "      <td>PARADERO STA MARIA  S.A. DE C.V.</td>\n",
       "      <td>PL/817/EXP/ES/2015</td>\n",
       "      <td>-101.40970</td>\n",
       "      <td>26.75702</td>\n",
       "      <td>2507</td>\n",
       "      <td>18.48</td>\n",
       "      <td>regular</td>\n",
       "      <td>4.5</td>\n",
       "      <td>2078.0</td>\n",
       "      <td>Estación Monky's</td>\n",
       "      <td>Carretera Federal 57 2502 COAH Estados Unidos Mexicanos, México 57 2502</td>\n",
       "      <td>gas_station, point_of_interest, establishment</td>\n",
       "      <td>4-4.49</td>\n",
       "    </tr>\n",
       "    <tr>\n",
       "      <th>2531</th>\n",
       "      <td>BP ESTACIONES Y SERVICIOS ENERGETICOS, S.A. DE C.V.</td>\n",
       "      <td>PL/5400/EXP/ES/2015</td>\n",
       "      <td>-99.23764</td>\n",
       "      <td>19.49989</td>\n",
       "      <td>4705</td>\n",
       "      <td>19.09</td>\n",
       "      <td>regular</td>\n",
       "      <td>4.3</td>\n",
       "      <td>2014.0</td>\n",
       "      <td>bp</td>\n",
       "      <td>Perif. Blvd. Manuel Ávila Camacho, Cd. Satélite, Naucalpan de Juárez</td>\n",
       "      <td>gas_station, convenience_store, cafe, food, point_of_interest, store, establishment</td>\n",
       "      <td>4-4.49</td>\n",
       "    </tr>\n",
       "    <tr>\n",
       "      <th>1162</th>\n",
       "      <td>BP ESTACIONES Y SERVICIOS ENERGETICOS, S.A. DE C.V.</td>\n",
       "      <td>PL/1553/EXP/ES/2015</td>\n",
       "      <td>-99.12736</td>\n",
       "      <td>19.33902</td>\n",
       "      <td>3217</td>\n",
       "      <td>19.49</td>\n",
       "      <td>regular</td>\n",
       "      <td>4.2</td>\n",
       "      <td>2012.0</td>\n",
       "      <td>bp</td>\n",
       "      <td>Calz Taxqueña, Paseos de Taxqueña, Ciudad de México</td>\n",
       "      <td>gas_station, convenience_store, food, point_of_interest, store, establishment</td>\n",
       "      <td>4-4.49</td>\n",
       "    </tr>\n",
       "    <tr>\n",
       "      <th>79</th>\n",
       "      <td>GRUPO OCTANO, S.A. DE C.V.</td>\n",
       "      <td>PL/497/EXP/ES/2015</td>\n",
       "      <td>-100.79240</td>\n",
       "      <td>19.90187</td>\n",
       "      <td>2118</td>\n",
       "      <td>19.48</td>\n",
       "      <td>regular</td>\n",
       "      <td>3.8</td>\n",
       "      <td>1804.0</td>\n",
       "      <td>Pemex</td>\n",
       "      <td>México 15D, Zinapecuaro de Figueroa</td>\n",
       "      <td>gas_station, point_of_interest, establishment</td>\n",
       "      <td>3-3.99</td>\n",
       "    </tr>\n",
       "  </tbody>\n",
       "</table>\n",
       "</div>"
      ],
      "text/plain": [
       "                                                     name  \\\n",
       "2071                 ESTACIÓN DE SERVICIOS POMAS SA DE CV   \n",
       "468                      PARADERO STA MARIA  S.A. DE C.V.   \n",
       "2531  BP ESTACIONES Y SERVICIOS ENERGETICOS, S.A. DE C.V.   \n",
       "1162  BP ESTACIONES Y SERVICIOS ENERGETICOS, S.A. DE C.V.   \n",
       "79                             GRUPO OCTANO, S.A. DE C.V.   \n",
       "\n",
       "                   cre_id        Lng       Lat  place_id  gas_price gas type  \\\n",
       "2071  PL/2315/EXP/ES/2015 -103.30660  24.12847      4143      18.79  regular   \n",
       "468    PL/817/EXP/ES/2015 -101.40970  26.75702      2507      18.48  regular   \n",
       "2531  PL/5400/EXP/ES/2015  -99.23764  19.49989      4705      19.09  regular   \n",
       "1162  PL/1553/EXP/ES/2015  -99.12736  19.33902      3217      19.49  regular   \n",
       "79     PL/497/EXP/ES/2015 -100.79240  19.90187      2118      19.48  regular   \n",
       "\n",
       "      Rating  User Ratings       Google_Name  \\\n",
       "2071     4.4        2374.0    Truck Stop 001   \n",
       "468      4.5        2078.0  Estación Monky's   \n",
       "2531     4.3        2014.0                bp   \n",
       "1162     4.2        2012.0                bp   \n",
       "79       3.8        1804.0             Pemex   \n",
       "\n",
       "                                                                      Address  \\\n",
       "2071                                        Km. 105.8, México 49, Juan Aldama   \n",
       "468   Carretera Federal 57 2502 COAH Estados Unidos Mexicanos, México 57 2502   \n",
       "2531     Perif. Blvd. Manuel Ávila Camacho, Cd. Satélite, Naucalpan de Juárez   \n",
       "1162                      Calz Taxqueña, Paseos de Taxqueña, Ciudad de México   \n",
       "79                                        México 15D, Zinapecuaro de Figueroa   \n",
       "\n",
       "                                                                                    Types  \\\n",
       "2071               gas_station, restaurant, food, point_of_interest, store, establishment   \n",
       "468                                         gas_station, point_of_interest, establishment   \n",
       "2531  gas_station, convenience_store, cafe, food, point_of_interest, store, establishment   \n",
       "1162        gas_station, convenience_store, food, point_of_interest, store, establishment   \n",
       "79                                          gas_station, point_of_interest, establishment   \n",
       "\n",
       "     Ratings  \n",
       "2071  4-4.49  \n",
       "468   4-4.49  \n",
       "2531  4-4.49  \n",
       "1162  4-4.49  \n",
       "79    3-3.99  "
      ]
     },
     "execution_count": 42,
     "metadata": {},
     "output_type": "execute_result"
    }
   ],
   "source": [
    "best_rating_df = Mexico_Gas_Stations.sort_values(by=\"Rating\",ascending=False)\n",
    "best_rating_df = best_rating_df.sort_values(by=\"User Ratings\",ascending=False).head(100)\n",
    "best_rating_df.head()"
   ]
  },
  {
   "cell_type": "code",
   "execution_count": 48,
   "metadata": {},
   "outputs": [],
   "source": [
    "#Set api key\n",
    "gmaps.configure(api_key=gkey)\n",
    "#Set lat and lng as locations\n",
    "locations = best_rating_df[[\"Lat\",\"Lng\"]]\n",
    "#Set gas_price as weight\n",
    "weight=best_rating_df[\"Rating\"]"
   ]
  },
  {
   "cell_type": "code",
   "execution_count": 49,
   "metadata": {},
   "outputs": [
    {
     "data": {
      "application/vnd.jupyter.widget-view+json": {
       "model_id": "95b920a24a304bfcb8087e78bf166296",
       "version_major": 2,
       "version_minor": 0
      },
      "text/plain": [
       "Figure(layout=FigureLayout(height='420px'))"
      ]
     },
     "metadata": {},
     "output_type": "display_data"
    }
   ],
   "source": [
    "# Plot Best Rating Heatmap\n",
    "fig = gmaps.figure()\n",
    "max_intensity = np.max(weight)\n",
    "\n",
    "# Create heat layer\n",
    "heatmap = gmaps.heatmap_layer(\n",
    "    locations, \n",
    "    weights = weight, \n",
    "    dissipating=False, \n",
    "    point_radius=.2)\n",
    "\n",
    "# Add layer\n",
    "fig.add_layer(heatmap)\n",
    "\n",
    "# Display figure\n",
    "fig"
   ]
  },
  {
   "cell_type": "markdown",
   "metadata": {},
   "source": [
    "* Aditionally, we added a marker layer for the best rated just to give some extra information about the best gas stations"
   ]
  },
  {
   "cell_type": "code",
   "execution_count": 69,
   "metadata": {},
   "outputs": [
    {
     "data": {
      "application/vnd.jupyter.widget-view+json": {
       "model_id": "e5b9ad8b1d79473ab42cdae6b34dee46",
       "version_major": 2,
       "version_minor": 0
      },
      "text/plain": [
       "Figure(layout=FigureLayout(height='420px'))"
      ]
     },
     "metadata": {},
     "output_type": "display_data"
    }
   ],
   "source": [
    "info_box_template = \"\"\"\n",
    "<dl>\n",
    "<dt>Name</dt><dd>{name}</dd>\n",
    "<dt>City</dt><dd>{Address}</dd>\n",
    "<dt>Rating</dt><dd>{Rating}</dd>\n",
    "</dl>\n",
    "\"\"\"\n",
    "# Store the DataFrame Row\n",
    "# NOTE: be sure to update with your DataFrame name\n",
    "gas_info = [info_box_template.format(**row) for index, row in best_rating_df.iterrows()]\n",
    "locations = best_rating_df[[\"Lat\", \"Lng\"]]\n",
    "# Add marker layer ontop of heat map\n",
    "markers = gmaps.marker_layer(locations, info_box_content = gas_info)\n",
    "markers\n",
    "# Display Map\n",
    "fig.add_layer(markers)\n",
    "\n",
    "fig"
   ]
  },
  {
   "cell_type": "markdown",
   "metadata": {},
   "source": [
    "### Top 100 minimum prices"
   ]
  },
  {
   "cell_type": "code",
   "execution_count": 56,
   "metadata": {},
   "outputs": [
    {
     "data": {
      "text/html": [
       "<div>\n",
       "<style scoped>\n",
       "    .dataframe tbody tr th:only-of-type {\n",
       "        vertical-align: middle;\n",
       "    }\n",
       "\n",
       "    .dataframe tbody tr th {\n",
       "        vertical-align: top;\n",
       "    }\n",
       "\n",
       "    .dataframe thead th {\n",
       "        text-align: right;\n",
       "    }\n",
       "</style>\n",
       "<table border=\"1\" class=\"dataframe\">\n",
       "  <thead>\n",
       "    <tr style=\"text-align: right;\">\n",
       "      <th></th>\n",
       "      <th>name</th>\n",
       "      <th>cre_id</th>\n",
       "      <th>Lng</th>\n",
       "      <th>Lat</th>\n",
       "      <th>place_id</th>\n",
       "      <th>gas_price</th>\n",
       "      <th>gas type</th>\n",
       "      <th>Rating</th>\n",
       "      <th>User Ratings</th>\n",
       "      <th>Google_Name</th>\n",
       "      <th>Address</th>\n",
       "      <th>Types</th>\n",
       "      <th>Ratings</th>\n",
       "    </tr>\n",
       "  </thead>\n",
       "  <tbody>\n",
       "    <tr>\n",
       "      <th>8956</th>\n",
       "      <td>SERVICIO BOCA SA DE CV</td>\n",
       "      <td>PL/3045/EXP/ES/2015</td>\n",
       "      <td>-96.16934</td>\n",
       "      <td>19.21568</td>\n",
       "      <td>11164</td>\n",
       "      <td>16.47</td>\n",
       "      <td>regular</td>\n",
       "      <td>4.3</td>\n",
       "      <td>134.0</td>\n",
       "      <td>PeMex</td>\n",
       "      <td>Cerca de Tecnológico, Veracruz</td>\n",
       "      <td>gas_station, point_of_interest, establishment</td>\n",
       "      <td>4-4.49</td>\n",
       "    </tr>\n",
       "    <tr>\n",
       "      <th>9785</th>\n",
       "      <td>ISIGAS GUADALUPE SA DE CV</td>\n",
       "      <td>PL/10931/EXP/ES/2015</td>\n",
       "      <td>-100.17060</td>\n",
       "      <td>25.66982</td>\n",
       "      <td>13061</td>\n",
       "      <td>16.48</td>\n",
       "      <td>premium</td>\n",
       "      <td>3.0</td>\n",
       "      <td>2.0</td>\n",
       "      <td>Gasolinera Pemex</td>\n",
       "      <td>Av Maestro Israel Cavazos Garza 125, Cerro Azul, Guadalupe</td>\n",
       "      <td>gas_station, point_of_interest, establishment</td>\n",
       "      <td>2-2.99</td>\n",
       "    </tr>\n",
       "    <tr>\n",
       "      <th>2461</th>\n",
       "      <td>NOVOGAS TOLLOCAN SA DE CV</td>\n",
       "      <td>PL/5933/EXP/ES/2015</td>\n",
       "      <td>-96.13433</td>\n",
       "      <td>19.19525</td>\n",
       "      <td>4635</td>\n",
       "      <td>16.48</td>\n",
       "      <td>regular</td>\n",
       "      <td>4.1</td>\n",
       "      <td>72.0</td>\n",
       "      <td>Pemex</td>\n",
       "      <td>Av. Gral. Prim 132, Centro, Veracruz</td>\n",
       "      <td>gas_station, point_of_interest, establishment</td>\n",
       "      <td>4-4.49</td>\n",
       "    </tr>\n",
       "    <tr>\n",
       "      <th>5343</th>\n",
       "      <td>Gasolinera Olympia de Veracruz, S.A. de C.V.</td>\n",
       "      <td>PL/6783/EXP/ES/2015</td>\n",
       "      <td>-96.13139</td>\n",
       "      <td>19.18961</td>\n",
       "      <td>7525</td>\n",
       "      <td>16.48</td>\n",
       "      <td>regular</td>\n",
       "      <td>3.8</td>\n",
       "      <td>111.0</td>\n",
       "      <td>Gasolinera Olympia de Veracruz</td>\n",
       "      <td>Av. Gral. Prim 244-246, Ricardo Flores Magón, Veracruz</td>\n",
       "      <td>gas_station, point_of_interest, establishment</td>\n",
       "      <td>3-3.99</td>\n",
       "    </tr>\n",
       "    <tr>\n",
       "      <th>4083</th>\n",
       "      <td>Grupo Garcia Montaño SA de CV</td>\n",
       "      <td>PL/4196/EXP/ES/2015</td>\n",
       "      <td>-115.47870</td>\n",
       "      <td>32.65646</td>\n",
       "      <td>6262</td>\n",
       "      <td>16.49</td>\n",
       "      <td>regular</td>\n",
       "      <td>3.8</td>\n",
       "      <td>56.0</td>\n",
       "      <td>Pemex</td>\n",
       "      <td>Bl, Boulevard Adolfo López Mateos N 820, Bella Vista, Mexicali</td>\n",
       "      <td>gas_station, point_of_interest, establishment</td>\n",
       "      <td>3-3.99</td>\n",
       "    </tr>\n",
       "  </tbody>\n",
       "</table>\n",
       "</div>"
      ],
      "text/plain": [
       "                                              name                cre_id  \\\n",
       "8956                        SERVICIO BOCA SA DE CV   PL/3045/EXP/ES/2015   \n",
       "9785                     ISIGAS GUADALUPE SA DE CV  PL/10931/EXP/ES/2015   \n",
       "2461                     NOVOGAS TOLLOCAN SA DE CV   PL/5933/EXP/ES/2015   \n",
       "5343  Gasolinera Olympia de Veracruz, S.A. de C.V.   PL/6783/EXP/ES/2015   \n",
       "4083                 Grupo Garcia Montaño SA de CV   PL/4196/EXP/ES/2015   \n",
       "\n",
       "            Lng       Lat  place_id  gas_price gas type  Rating  User Ratings  \\\n",
       "8956  -96.16934  19.21568     11164      16.47  regular     4.3         134.0   \n",
       "9785 -100.17060  25.66982     13061      16.48  premium     3.0           2.0   \n",
       "2461  -96.13433  19.19525      4635      16.48  regular     4.1          72.0   \n",
       "5343  -96.13139  19.18961      7525      16.48  regular     3.8         111.0   \n",
       "4083 -115.47870  32.65646      6262      16.49  regular     3.8          56.0   \n",
       "\n",
       "                         Google_Name  \\\n",
       "8956                           PeMex   \n",
       "9785                Gasolinera Pemex   \n",
       "2461                           Pemex   \n",
       "5343  Gasolinera Olympia de Veracruz   \n",
       "4083                           Pemex   \n",
       "\n",
       "                                                             Address  \\\n",
       "8956                                  Cerca de Tecnológico, Veracruz   \n",
       "9785      Av Maestro Israel Cavazos Garza 125, Cerro Azul, Guadalupe   \n",
       "2461                            Av. Gral. Prim 132, Centro, Veracruz   \n",
       "5343          Av. Gral. Prim 244-246, Ricardo Flores Magón, Veracruz   \n",
       "4083  Bl, Boulevard Adolfo López Mateos N 820, Bella Vista, Mexicali   \n",
       "\n",
       "                                              Types Ratings  \n",
       "8956  gas_station, point_of_interest, establishment  4-4.49  \n",
       "9785  gas_station, point_of_interest, establishment  2-2.99  \n",
       "2461  gas_station, point_of_interest, establishment  4-4.49  \n",
       "5343  gas_station, point_of_interest, establishment  3-3.99  \n",
       "4083  gas_station, point_of_interest, establishment  3-3.99  "
      ]
     },
     "execution_count": 56,
     "metadata": {},
     "output_type": "execute_result"
    }
   ],
   "source": [
    "# Removing 0 User Ratings because they don't mean anything to the study\n",
    "lowest_price_df = Mexico_Gas_Stations.loc[Mexico_Gas_Stations[\"User Ratings\"]>0]\n",
    "# Using only prices above 16.45 that correspond to the minimum price value reported at the end of 2017\n",
    "lowest_price_df = lowest_price_df.loc[lowest_price_df[\"gas_price\"]>16.45]\n",
    "lowest_price_df = lowest_price_df.sort_values(by=\"Rating\",ascending=False)\n",
    "lowest_price_df = lowest_price_df.sort_values(by=\"User Ratings\",ascending=False)\n",
    "lowest_price_df = lowest_price_df.sort_values(by=\"gas_price\",ascending=True).head(100)\n",
    "lowest_price_df.head()"
   ]
  },
  {
   "cell_type": "code",
   "execution_count": 57,
   "metadata": {},
   "outputs": [],
   "source": [
    "#Set api key\n",
    "gmaps.configure(api_key=gkey)\n",
    "#Set lat and lng as locations\n",
    "locations = lowest_price_df[[\"Lat\",\"Lng\"]]\n",
    "#Set Humidity as weight\n",
    "weight=lowest_price_df[\"gas_price\"]\n",
    "# #Plot Heatmap\n",
    "# fig = gmaps.figure\n",
    "# max_intensity = np.max(weight)"
   ]
  },
  {
   "cell_type": "code",
   "execution_count": 58,
   "metadata": {},
   "outputs": [
    {
     "data": {
      "application/vnd.jupyter.widget-view+json": {
       "model_id": "ee3631031ccb462ab93dc4ff3cdff436",
       "version_major": 2,
       "version_minor": 0
      },
      "text/plain": [
       "Figure(layout=FigureLayout(height='420px'))"
      ]
     },
     "metadata": {},
     "output_type": "display_data"
    }
   ],
   "source": [
    "# Plot Heatmap\n",
    "fig = gmaps.figure()\n",
    "max_intensity = np.max(weight)\n",
    "\n",
    "# Create heat layer\n",
    "heatmap = gmaps.heatmap_layer(\n",
    "    locations, \n",
    "    weights = weight, \n",
    "    dissipating=False, \n",
    "    max_intensity=17, \n",
    "    point_radius=.2)\n",
    "\n",
    "# Add layer\n",
    "fig.add_layer(heatmap)\n",
    "\n",
    "# Display figure\n",
    "fig"
   ]
  },
  {
   "cell_type": "markdown",
   "metadata": {},
   "source": [
    "### Top 100 worst rated"
   ]
  },
  {
   "cell_type": "code",
   "execution_count": 65,
   "metadata": {},
   "outputs": [
    {
     "data": {
      "text/html": [
       "<div>\n",
       "<style scoped>\n",
       "    .dataframe tbody tr th:only-of-type {\n",
       "        vertical-align: middle;\n",
       "    }\n",
       "\n",
       "    .dataframe tbody tr th {\n",
       "        vertical-align: top;\n",
       "    }\n",
       "\n",
       "    .dataframe thead th {\n",
       "        text-align: right;\n",
       "    }\n",
       "</style>\n",
       "<table border=\"1\" class=\"dataframe\">\n",
       "  <thead>\n",
       "    <tr style=\"text-align: right;\">\n",
       "      <th></th>\n",
       "      <th>name</th>\n",
       "      <th>cre_id</th>\n",
       "      <th>Lng</th>\n",
       "      <th>Lat</th>\n",
       "      <th>place_id</th>\n",
       "      <th>gas_price</th>\n",
       "      <th>gas type</th>\n",
       "      <th>Rating</th>\n",
       "      <th>User Ratings</th>\n",
       "      <th>Google_Name</th>\n",
       "      <th>Address</th>\n",
       "      <th>Types</th>\n",
       "      <th>Ratings</th>\n",
       "    </tr>\n",
       "  </thead>\n",
       "  <tbody>\n",
       "    <tr>\n",
       "      <th>1883</th>\n",
       "      <td>ESTACIÓN DE SERVICIO LOS AVALLANOS S.A. DE C.V.</td>\n",
       "      <td>PL/2437/EXP/ES/2015</td>\n",
       "      <td>-86.85023</td>\n",
       "      <td>21.03732</td>\n",
       "      <td>3938</td>\n",
       "      <td>19.89</td>\n",
       "      <td>regular</td>\n",
       "      <td>2.5</td>\n",
       "      <td>476.0</td>\n",
       "      <td>Pemex</td>\n",
       "      <td>Reserva Territorial \"Sascaberas\", Mz 11 Lote 01 299, Supermanzana</td>\n",
       "      <td>gas_station, point_of_interest, establishment</td>\n",
       "      <td>2-2.99</td>\n",
       "    </tr>\n",
       "    <tr>\n",
       "      <th>6010</th>\n",
       "      <td>OPERADORA DE ESTACIONES DE SERVICIO 20-20, S.A. DE C.V.</td>\n",
       "      <td>PL/6711/EXP/ES/2015</td>\n",
       "      <td>-109.70940</td>\n",
       "      <td>23.15160</td>\n",
       "      <td>8193</td>\n",
       "      <td>19.84</td>\n",
       "      <td>regular</td>\n",
       "      <td>2.7</td>\n",
       "      <td>130.0</td>\n",
       "      <td>Pemex</td>\n",
       "      <td>La Paz-San José del Cabo Mz 3-C LT L-2, Las Veredas</td>\n",
       "      <td>gas_station, point_of_interest, establishment</td>\n",
       "      <td>2-2.99</td>\n",
       "    </tr>\n",
       "    <tr>\n",
       "      <th>1124</th>\n",
       "      <td>INMOBILIARIA OSTUNI S.A. DE C.V.</td>\n",
       "      <td>PL/2040/EXP/ES/2015</td>\n",
       "      <td>-86.93461</td>\n",
       "      <td>20.49878</td>\n",
       "      <td>3179</td>\n",
       "      <td>19.84</td>\n",
       "      <td>regular</td>\n",
       "      <td>2.8</td>\n",
       "      <td>150.0</td>\n",
       "      <td>Pemex</td>\n",
       "      <td>Av Lic Benito Juárez 73, Emiliano Zapata, San Miguel de Cozumel</td>\n",
       "      <td>gas_station, point_of_interest, establishment</td>\n",
       "      <td>2-2.99</td>\n",
       "    </tr>\n",
       "    <tr>\n",
       "      <th>572</th>\n",
       "      <td>SERVICIOS PLAYACAR S.A. DE C.V.</td>\n",
       "      <td>PL/1482/EXP/ES/2015</td>\n",
       "      <td>-87.07149</td>\n",
       "      <td>20.64288</td>\n",
       "      <td>2625</td>\n",
       "      <td>19.99</td>\n",
       "      <td>regular</td>\n",
       "      <td>2.8</td>\n",
       "      <td>106.0</td>\n",
       "      <td>PEMEX</td>\n",
       "      <td>Carr. Cancún - Tulum manzana 51, Luis Donaldo Colosio, Playa del Carmen</td>\n",
       "      <td>gas_station, point_of_interest, establishment</td>\n",
       "      <td>2-2.99</td>\n",
       "    </tr>\n",
       "    <tr>\n",
       "      <th>4587</th>\n",
       "      <td>Estación de Servicios Palmas Cancún, S.A. de C.V.</td>\n",
       "      <td>PL/4031/EXP/ES/2015</td>\n",
       "      <td>-86.84990</td>\n",
       "      <td>21.04280</td>\n",
       "      <td>6769</td>\n",
       "      <td>19.69</td>\n",
       "      <td>regular</td>\n",
       "      <td>2.8</td>\n",
       "      <td>81.0</td>\n",
       "      <td>Gasolinera Pemex</td>\n",
       "      <td>Lote 6-01,6-02 Y 6-03 Carretera Cancun, Puerto Juárez Km.17, Rancho Santa Ana</td>\n",
       "      <td>gas_station, point_of_interest, establishment</td>\n",
       "      <td>2-2.99</td>\n",
       "    </tr>\n",
       "  </tbody>\n",
       "</table>\n",
       "</div>"
      ],
      "text/plain": [
       "                                                         name  \\\n",
       "1883          ESTACIÓN DE SERVICIO LOS AVALLANOS S.A. DE C.V.   \n",
       "6010  OPERADORA DE ESTACIONES DE SERVICIO 20-20, S.A. DE C.V.   \n",
       "1124                         INMOBILIARIA OSTUNI S.A. DE C.V.   \n",
       "572                           SERVICIOS PLAYACAR S.A. DE C.V.   \n",
       "4587        Estación de Servicios Palmas Cancún, S.A. de C.V.   \n",
       "\n",
       "                   cre_id        Lng       Lat  place_id  gas_price gas type  \\\n",
       "1883  PL/2437/EXP/ES/2015  -86.85023  21.03732      3938      19.89  regular   \n",
       "6010  PL/6711/EXP/ES/2015 -109.70940  23.15160      8193      19.84  regular   \n",
       "1124  PL/2040/EXP/ES/2015  -86.93461  20.49878      3179      19.84  regular   \n",
       "572   PL/1482/EXP/ES/2015  -87.07149  20.64288      2625      19.99  regular   \n",
       "4587  PL/4031/EXP/ES/2015  -86.84990  21.04280      6769      19.69  regular   \n",
       "\n",
       "      Rating  User Ratings       Google_Name  \\\n",
       "1883     2.5         476.0             Pemex   \n",
       "6010     2.7         130.0             Pemex   \n",
       "1124     2.8         150.0             Pemex   \n",
       "572      2.8         106.0             PEMEX   \n",
       "4587     2.8          81.0  Gasolinera Pemex   \n",
       "\n",
       "                                                                            Address  \\\n",
       "1883              Reserva Territorial \"Sascaberas\", Mz 11 Lote 01 299, Supermanzana   \n",
       "6010                            La Paz-San José del Cabo Mz 3-C LT L-2, Las Veredas   \n",
       "1124                Av Lic Benito Juárez 73, Emiliano Zapata, San Miguel de Cozumel   \n",
       "572         Carr. Cancún - Tulum manzana 51, Luis Donaldo Colosio, Playa del Carmen   \n",
       "4587  Lote 6-01,6-02 Y 6-03 Carretera Cancun, Puerto Juárez Km.17, Rancho Santa Ana   \n",
       "\n",
       "                                              Types Ratings  \n",
       "1883  gas_station, point_of_interest, establishment  2-2.99  \n",
       "6010  gas_station, point_of_interest, establishment  2-2.99  \n",
       "1124  gas_station, point_of_interest, establishment  2-2.99  \n",
       "572   gas_station, point_of_interest, establishment  2-2.99  \n",
       "4587  gas_station, point_of_interest, establishment  2-2.99  "
      ]
     },
     "execution_count": 65,
     "metadata": {},
     "output_type": "execute_result"
    }
   ],
   "source": [
    "worst_rating_df = Mexico_Gas_Stations.sort_values(by=\"Rating\",ascending=True) \n",
    "worst_rating_df = worst_rating_df.loc[worst_rating_df[\"User Ratings\"]>worst_rating_df[\"User Ratings\"].mean()]\n",
    "worst_rating_df = worst_rating_df.sort_values(by=\"Rating\",ascending=True).head(100)\n",
    "worst_rating_df.head()"
   ]
  },
  {
   "cell_type": "code",
   "execution_count": 67,
   "metadata": {},
   "outputs": [],
   "source": [
    "#Set api key\n",
    "gmaps.configure(api_key=gkey)\n",
    "#Set lat and lng as locations\n",
    "locations = worst_rating_df[[\"Lat\",\"Lng\"]]\n",
    "#Set gas_price as weight\n",
    "weight=worst_rating_df[\"Rating\"]"
   ]
  },
  {
   "cell_type": "code",
   "execution_count": 68,
   "metadata": {
    "scrolled": false
   },
   "outputs": [
    {
     "data": {
      "application/vnd.jupyter.widget-view+json": {
       "model_id": "e5b9ad8b1d79473ab42cdae6b34dee46",
       "version_major": 2,
       "version_minor": 0
      },
      "text/plain": [
       "Figure(layout=FigureLayout(height='420px'))"
      ]
     },
     "metadata": {},
     "output_type": "display_data"
    }
   ],
   "source": [
    "# Plot Best Rating Heatmap\n",
    "fig = gmaps.figure()\n",
    "max_intensity = np.max(weight)\n",
    "\n",
    "# Create heat layer\n",
    "heatmap = gmaps.heatmap_layer(\n",
    "    locations, \n",
    "    weights = weight, \n",
    "    dissipating=False, \n",
    "    point_radius=.2)\n",
    "\n",
    "# Add layer\n",
    "fig.add_layer(heatmap)\n",
    "\n",
    "# Display figure\n",
    "fig"
   ]
  },
  {
   "cell_type": "markdown",
   "metadata": {},
   "source": [
    "## Part 5 - Conclusions"
   ]
  },
  {
   "cell_type": "code",
   "execution_count": null,
   "metadata": {},
   "outputs": [],
   "source": []
  },
  {
   "cell_type": "code",
   "execution_count": null,
   "metadata": {},
   "outputs": [],
   "source": []
  }
 ],
 "metadata": {
  "kernelspec": {
   "display_name": "Python 3",
   "language": "python",
   "name": "python3"
  },
  "language_info": {
   "codemirror_mode": {
    "name": "ipython",
    "version": 3
   },
   "file_extension": ".py",
   "mimetype": "text/x-python",
   "name": "python",
   "nbconvert_exporter": "python",
   "pygments_lexer": "ipython3",
   "version": "3.8.3"
  }
 },
 "nbformat": 4,
 "nbformat_minor": 4
}
